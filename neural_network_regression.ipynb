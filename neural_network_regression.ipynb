{
  "nbformat": 4,
  "nbformat_minor": 0,
  "metadata": {
    "colab": {
      "provenance": [],
      "authorship_tag": "ABX9TyO0/go99QnjYaSAPictwrPh",
      "include_colab_link": true
    },
    "kernelspec": {
      "name": "python3",
      "display_name": "Python 3"
    },
    "language_info": {
      "name": "python"
    }
  },
  "cells": [
    {
      "cell_type": "markdown",
      "metadata": {
        "id": "view-in-github",
        "colab_type": "text"
      },
      "source": [
        "<a href=\"https://colab.research.google.com/github/kashishthakur26/Tensorflow-learning/blob/main/neural_network_regression.ipynb\" target=\"_parent\"><img src=\"https://colab.research.google.com/assets/colab-badge.svg\" alt=\"Open In Colab\"/></a>"
      ]
    },
    {
      "cell_type": "markdown",
      "source": [
        "## Regression neural network with tensorflow\n",
        "regression- it is a predicting a numerical variable based on some other combination of variables , predicting numbers.\n"
      ],
      "metadata": {
        "id": "3PDz7Zb31jPr"
      }
    },
    {
      "cell_type": "code",
      "source": [
        "import tensorflow as tf\n",
        "print(tf.__version__)"
      ],
      "metadata": {
        "colab": {
          "base_uri": "https://localhost:8080/"
        },
        "id": "wW77BJrd2NX9",
        "outputId": "855187e4-3326-4b28-a291-8c996753465a"
      },
      "execution_count": 1,
      "outputs": [
        {
          "output_type": "stream",
          "name": "stdout",
          "text": [
            "2.12.0\n"
          ]
        }
      ]
    },
    {
      "cell_type": "code",
      "source": [
        "import numpy as np\n",
        "import matplotlib.pyplot as plt\n",
        "\n",
        "# Create features (using tensors)\n",
        "X = tf.constant([-7.0, -4.0, -1.0, 2.0, 5.0, 8.0, 11.0, 14.0])\n",
        "\n",
        "# Create labels (using tensors)\n",
        "y = tf.constant([3.0, 6.0, 9.0, 12.0, 15.0, 18.0, 21.0, 24.0])\n",
        "\n",
        "# Visualize it\n",
        "plt.scatter(X, y);"
      ],
      "metadata": {
        "colab": {
          "base_uri": "https://localhost:8080/",
          "height": 435
        },
        "id": "I5TLICBp2XyR",
        "outputId": "bbb188bf-d570-4725-8035-cd7e88692dff"
      },
      "execution_count": 2,
      "outputs": [
        {
          "output_type": "display_data",
          "data": {
            "text/plain": [
              "<Figure size 640x480 with 1 Axes>"
            ],
            "image/png": "[encoded data removed]"
          },
          "metadata": {}
        }
      ]
    },
    {
      "cell_type": "code",
      "source": [
        "### Input and output shapes\n",
        "X = tf.cast(tf.constant(X), dtype=tf.float32)\n",
        "y = tf.cast(tf.constant(y) , dtype=tf.float32)\n",
        "X,y"
      ],
      "metadata": {
        "colab": {
          "base_uri": "https://localhost:8080/"
        },
        "id": "R3Y6OBRO6ITW",
        "outputId": "f5d28670-f717-4cd1-f6f8-2a1d0325372e"
      },
      "execution_count": 3,
      "outputs": [
        {
          "output_type": "execute_result",
          "data": {
            "text/plain": [
              "(<tf.Tensor: shape=(8,), dtype=float32, numpy=array([-7., -4., -1.,  2.,  5.,  8., 11., 14.], dtype=float32)>,\n",
              " <tf.Tensor: shape=(8,), dtype=float32, numpy=array([ 3.,  6.,  9., 12., 15., 18., 21., 24.], dtype=float32)>)"
            ]
          },
          "metadata": {},
          "execution_count": 3
        }
      ]
    },
    {
      "cell_type": "code",
      "source": [
        "input_shape = X[0].shape\n",
        "output_shape= y[0].shape\n",
        "input_shape, output_shape"
      ],
      "metadata": {
        "colab": {
          "base_uri": "https://localhost:8080/"
        },
        "id": "I4hhSeYG7Wc7",
        "outputId": "29505664-82d5-44ce-ee53-9977cffccc19"
      },
      "execution_count": 4,
      "outputs": [
        {
          "output_type": "execute_result",
          "data": {
            "text/plain": [
              "(TensorShape([]), TensorShape([]))"
            ]
          },
          "metadata": {},
          "execution_count": 4
        }
      ]
    },
    {
      "cell_type": "markdown",
      "source": [
        "## Steps in modelling with Tensorflow\n",
        "1. Creating a model- define the input and output layers,\n",
        "as well as the hidden layers of a deep learning model.\n",
        "2. Compiling a model - define the loss function( in other words, the function \n",
        "which tells our model how wrong it is) and the optimizer (tells our model how\n",
        "to improve the patterns its learning) and evaluation metrics (what we can use to \n",
        "interpret the performance of our model).\n",
        "3. Fitting a model- letting the model try to find patterns between X and y(features and labels)."
      ],
      "metadata": {
        "id": "03Fz4i547jLC"
      }
    },
    {
      "cell_type": "code",
      "source": [
        "tf.random.set_seed(42)\n",
        "model = tf.keras.Sequential([\n",
        "  tf.keras.layers.Dense(1)\n",
        "])\n",
        "\n",
        "# Compile the model\n",
        "model.compile(loss=tf.keras.losses.mae, \n",
        "              optimizer=tf.keras.optimizers.SGD(), \n",
        "              metrics=[\"mae\"])\n",
        "\n",
        "model.fit(tf.expand_dims(X, axis=-1), y, epochs=5)"
      ],
      "metadata": {
        "colab": {
          "base_uri": "https://localhost:8080/"
        },
        "id": "aoqdQIWq92xQ",
        "outputId": "f05e25b9-f685-41a1-8b61-2c5ddf232317"
      },
      "execution_count": 5,
      "outputs": [
        {
          "output_type": "stream",
          "name": "stdout",
          "text": [
            "Epoch 1/5\n",
            "1/1 [==============================] - 1s 704ms/step - loss: 10.2966 - mae: 10.2966\n",
            "Epoch 2/5\n",
            "1/1 [==============================] - 0s 15ms/step - loss: 10.1641 - mae: 10.1641\n",
            "Epoch 3/5\n",
            "1/1 [==============================] - 0s 9ms/step - loss: 10.0316 - mae: 10.0316\n",
            "Epoch 4/5\n",
            "1/1 [==============================] - 0s 11ms/step - loss: 9.8991 - mae: 9.8991\n",
            "Epoch 5/5\n",
            "1/1 [==============================] - 0s 12ms/step - loss: 9.7666 - mae: 9.7666\n"
          ]
        },
        {
          "output_type": "execute_result",
          "data": {
            "text/plain": [
              "<keras.callbacks.History at 0x7f4d8ce671f0>"
            ]
          },
          "metadata": {},
          "execution_count": 5
        }
      ]
    },
    {
      "cell_type": "code",
      "source": [
        "y_preds = model.predict([17])\n",
        "y_preds"
      ],
      "metadata": {
        "id": "F5qm6YdPCpX3",
        "colab": {
          "base_uri": "https://localhost:8080/"
        },
        "outputId": "5d2f8893-686e-4c86-f32c-363a1bf5154f"
      },
      "execution_count": 6,
      "outputs": [
        {
          "output_type": "stream",
          "name": "stdout",
          "text": [
            "1/1 [==============================] - 0s 133ms/step\n"
          ]
        },
        {
          "output_type": "execute_result",
          "data": {
            "text/plain": [
              "array([[18.584175]], dtype=float32)"
            ]
          },
          "metadata": {},
          "execution_count": 6
        }
      ]
    },
    {
      "cell_type": "code",
      "source": [
        "### Improving the model\n",
        "\n",
        "tf.random.set_seed(42)\n",
        "model = tf.keras.Sequential([\n",
        "  tf.keras.layers.Dense(1)\n",
        "])\n",
        "\n",
        "# Compile the model\n",
        "model.compile(loss=tf.keras.losses.mae, \n",
        "              optimizer=tf.keras.optimizers.SGD(),\n",
        "              metrics=[\"mae\"])\n",
        "\n",
        "model.fit(tf.expand_dims(X, axis=-1), y, epochs=100)"
      ],
      "metadata": {
        "colab": {
          "base_uri": "https://localhost:8080/"
        },
        "id": "S2TLT1_ybVXE",
        "outputId": "bf52c3a3-4ad8-42d5-9dde-24f792db1c0d"
      },
      "execution_count": 7,
      "outputs": [
        {
          "output_type": "stream",
          "name": "stdout",
          "text": [
            "Epoch 1/100\n",
            "1/1 [==============================] - 0s 337ms/step - loss: 9.5245 - mae: 9.5245\n",
            "Epoch 2/100\n",
            "1/1 [==============================] - 0s 11ms/step - loss: 9.3920 - mae: 9.3920\n",
            "Epoch 3/100\n",
            "1/1 [==============================] - 0s 10ms/step - loss: 9.2595 - mae: 9.2595\n",
            "Epoch 4/100\n",
            "1/1 [==============================] - 0s 10ms/step - loss: 9.1270 - mae: 9.1270\n",
            "Epoch 5/100\n",
            "1/1 [==============================] - 0s 10ms/step - loss: 8.9945 - mae: 8.9945\n",
            "Epoch 6/100\n",
            "1/1 [==============================] - 0s 12ms/step - loss: 8.8620 - mae: 8.8620\n",
            "Epoch 7/100\n",
            "1/1 [==============================] - 0s 9ms/step - loss: 8.7295 - mae: 8.7295\n",
            "Epoch 8/100\n",
            "1/1 [==============================] - 0s 8ms/step - loss: 8.5970 - mae: 8.5970\n",
            "Epoch 9/100\n",
            "1/1 [==============================] - 0s 9ms/step - loss: 8.4645 - mae: 8.4645\n",
            "Epoch 10/100\n",
            "1/1 [==============================] - 0s 23ms/step - loss: 8.3320 - mae: 8.3320\n",
            "Epoch 11/100\n",
            "1/1 [==============================] - 0s 14ms/step - loss: 8.1995 - mae: 8.1995\n",
            "Epoch 12/100\n",
            "1/1 [==============================] - 0s 12ms/step - loss: 8.0670 - mae: 8.0670\n",
            "Epoch 13/100\n",
            "1/1 [==============================] - 0s 12ms/step - loss: 7.9345 - mae: 7.9345\n",
            "Epoch 14/100\n",
            "1/1 [==============================] - 0s 12ms/step - loss: 7.8020 - mae: 7.8020\n",
            "Epoch 15/100\n",
            "1/1 [==============================] - 0s 12ms/step - loss: 7.6695 - mae: 7.6695\n",
            "Epoch 16/100\n",
            "1/1 [==============================] - 0s 11ms/step - loss: 7.5370 - mae: 7.5370\n",
            "Epoch 17/100\n",
            "1/1 [==============================] - 0s 13ms/step - loss: 7.4045 - mae: 7.4045\n",
            "Epoch 18/100\n",
            "1/1 [==============================] - 0s 15ms/step - loss: 7.3725 - mae: 7.3725\n",
            "Epoch 19/100\n",
            "1/1 [==============================] - 0s 13ms/step - loss: 7.3669 - mae: 7.3669\n",
            "Epoch 20/100\n",
            "1/1 [==============================] - 0s 13ms/step - loss: 7.3612 - mae: 7.3612\n",
            "Epoch 21/100\n",
            "1/1 [==============================] - 0s 14ms/step - loss: 7.3556 - mae: 7.3556\n",
            "Epoch 22/100\n",
            "1/1 [==============================] - 0s 15ms/step - loss: 7.3500 - mae: 7.3500\n",
            "Epoch 23/100\n",
            "1/1 [==============================] - 0s 12ms/step - loss: 7.3444 - mae: 7.3444\n",
            "Epoch 24/100\n",
            "1/1 [==============================] - 0s 12ms/step - loss: 7.3387 - mae: 7.3387\n",
            "Epoch 25/100\n",
            "1/1 [==============================] - 0s 12ms/step - loss: 7.3331 - mae: 7.3331\n",
            "Epoch 26/100\n",
            "1/1 [==============================] - 0s 13ms/step - loss: 7.3275 - mae: 7.3275\n",
            "Epoch 27/100\n",
            "1/1 [==============================] - 0s 13ms/step - loss: 7.3219 - mae: 7.3219\n",
            "Epoch 28/100\n",
            "1/1 [==============================] - 0s 13ms/step - loss: 7.3162 - mae: 7.3162\n",
            "Epoch 29/100\n",
            "1/1 [==============================] - 0s 15ms/step - loss: 7.3106 - mae: 7.3106\n",
            "Epoch 30/100\n",
            "1/1 [==============================] - 0s 13ms/step - loss: 7.3050 - mae: 7.3050\n",
            "Epoch 31/100\n",
            "1/1 [==============================] - 0s 13ms/step - loss: 7.2994 - mae: 7.2994\n",
            "Epoch 32/100\n",
            "1/1 [==============================] - 0s 13ms/step - loss: 7.2938 - mae: 7.2938\n",
            "Epoch 33/100\n",
            "1/1 [==============================] - 0s 11ms/step - loss: 7.2881 - mae: 7.2881\n",
            "Epoch 34/100\n",
            "1/1 [==============================] - 0s 11ms/step - loss: 7.2825 - mae: 7.2825\n",
            "Epoch 35/100\n",
            "1/1 [==============================] - 0s 12ms/step - loss: 7.2769 - mae: 7.2769\n",
            "Epoch 36/100\n",
            "1/1 [==============================] - 0s 14ms/step - loss: 7.2712 - mae: 7.2712\n",
            "Epoch 37/100\n",
            "1/1 [==============================] - 0s 10ms/step - loss: 7.2656 - mae: 7.2656\n",
            "Epoch 38/100\n",
            "1/1 [==============================] - 0s 10ms/step - loss: 7.2600 - mae: 7.2600\n",
            "Epoch 39/100\n",
            "1/1 [==============================] - 0s 10ms/step - loss: 7.2544 - mae: 7.2544\n",
            "Epoch 40/100\n",
            "1/1 [==============================] - 0s 15ms/step - loss: 7.2487 - mae: 7.2487\n",
            "Epoch 41/100\n",
            "1/1 [==============================] - 0s 15ms/step - loss: 7.2431 - mae: 7.2431\n",
            "Epoch 42/100\n",
            "1/1 [==============================] - 0s 16ms/step - loss: 7.2375 - mae: 7.2375\n",
            "Epoch 43/100\n",
            "1/1 [==============================] - 0s 18ms/step - loss: 7.2319 - mae: 7.2319\n",
            "Epoch 44/100\n",
            "1/1 [==============================] - 0s 12ms/step - loss: 7.2263 - mae: 7.2263\n",
            "Epoch 45/100\n",
            "1/1 [==============================] - 0s 12ms/step - loss: 7.2206 - mae: 7.2206\n",
            "Epoch 46/100\n",
            "1/1 [==============================] - 0s 13ms/step - loss: 7.2150 - mae: 7.2150\n",
            "Epoch 47/100\n",
            "1/1 [==============================] - 0s 11ms/step - loss: 7.2094 - mae: 7.2094\n",
            "Epoch 48/100\n",
            "1/1 [==============================] - 0s 11ms/step - loss: 7.2037 - mae: 7.2037\n",
            "Epoch 49/100\n",
            "1/1 [==============================] - 0s 10ms/step - loss: 7.1981 - mae: 7.1981\n",
            "Epoch 50/100\n",
            "1/1 [==============================] - 0s 11ms/step - loss: 7.1925 - mae: 7.1925\n",
            "Epoch 51/100\n",
            "1/1 [==============================] - 0s 10ms/step - loss: 7.1869 - mae: 7.1869\n",
            "Epoch 52/100\n",
            "1/1 [==============================] - 0s 8ms/step - loss: 7.1813 - mae: 7.1813\n",
            "Epoch 53/100\n",
            "1/1 [==============================] - 0s 9ms/step - loss: 7.1756 - mae: 7.1756\n",
            "Epoch 54/100\n",
            "1/1 [==============================] - 0s 10ms/step - loss: 7.1700 - mae: 7.1700\n",
            "Epoch 55/100\n",
            "1/1 [==============================] - 0s 9ms/step - loss: 7.1644 - mae: 7.1644\n",
            "Epoch 56/100\n",
            "1/1 [==============================] - 0s 8ms/step - loss: 7.1587 - mae: 7.1587\n",
            "Epoch 57/100\n",
            "1/1 [==============================] - 0s 10ms/step - loss: 7.1531 - mae: 7.1531\n",
            "Epoch 58/100\n",
            "1/1 [==============================] - 0s 9ms/step - loss: 7.1475 - mae: 7.1475\n",
            "Epoch 59/100\n",
            "1/1 [==============================] - 0s 9ms/step - loss: 7.1419 - mae: 7.1419\n",
            "Epoch 60/100\n",
            "1/1 [==============================] - 0s 15ms/step - loss: 7.1363 - mae: 7.1363\n",
            "Epoch 61/100\n",
            "1/1 [==============================] - 0s 10ms/step - loss: 7.1306 - mae: 7.1306\n",
            "Epoch 62/100\n",
            "1/1 [==============================] - 0s 9ms/step - loss: 7.1250 - mae: 7.1250\n",
            "Epoch 63/100\n",
            "1/1 [==============================] - 0s 9ms/step - loss: 7.1194 - mae: 7.1194\n",
            "Epoch 64/100\n",
            "1/1 [==============================] - 0s 10ms/step - loss: 7.1138 - mae: 7.1138\n",
            "Epoch 65/100\n",
            "1/1 [==============================] - 0s 10ms/step - loss: 7.1081 - mae: 7.1081\n",
            "Epoch 66/100\n",
            "1/1 [==============================] - 0s 9ms/step - loss: 7.1025 - mae: 7.1025\n",
            "Epoch 67/100\n",
            "1/1 [==============================] - 0s 10ms/step - loss: 7.0969 - mae: 7.0969\n",
            "Epoch 68/100\n",
            "1/1 [==============================] - 0s 10ms/step - loss: 7.0912 - mae: 7.0912\n",
            "Epoch 69/100\n",
            "1/1 [==============================] - 0s 10ms/step - loss: 7.0856 - mae: 7.0856\n",
            "Epoch 70/100\n",
            "1/1 [==============================] - 0s 10ms/step - loss: 7.0800 - mae: 7.0800\n",
            "Epoch 71/100\n",
            "1/1 [==============================] - 0s 10ms/step - loss: 7.0744 - mae: 7.0744\n",
            "Epoch 72/100\n",
            "1/1 [==============================] - 0s 9ms/step - loss: 7.0687 - mae: 7.0687\n",
            "Epoch 73/100\n",
            "1/1 [==============================] - 0s 9ms/step - loss: 7.0631 - mae: 7.0631\n",
            "Epoch 74/100\n",
            "1/1 [==============================] - 0s 9ms/step - loss: 7.0575 - mae: 7.0575\n",
            "Epoch 75/100\n",
            "1/1 [==============================] - 0s 10ms/step - loss: 7.0519 - mae: 7.0519\n",
            "Epoch 76/100\n",
            "1/1 [==============================] - 0s 9ms/step - loss: 7.0462 - mae: 7.0462\n",
            "Epoch 77/100\n",
            "1/1 [==============================] - 0s 9ms/step - loss: 7.0406 - mae: 7.0406\n",
            "Epoch 78/100\n",
            "1/1 [==============================] - 0s 9ms/step - loss: 7.0350 - mae: 7.0350\n",
            "Epoch 79/100\n",
            "1/1 [==============================] - 0s 8ms/step - loss: 7.0294 - mae: 7.0294\n",
            "Epoch 80/100\n",
            "1/1 [==============================] - 0s 10ms/step - loss: 7.0238 - mae: 7.0238\n",
            "Epoch 81/100\n",
            "1/1 [==============================] - 0s 9ms/step - loss: 7.0181 - mae: 7.0181\n",
            "Epoch 82/100\n",
            "1/1 [==============================] - 0s 9ms/step - loss: 7.0125 - mae: 7.0125\n",
            "Epoch 83/100\n",
            "1/1 [==============================] - 0s 9ms/step - loss: 7.0069 - mae: 7.0069\n",
            "Epoch 84/100\n",
            "1/1 [==============================] - 0s 12ms/step - loss: 7.0013 - mae: 7.0013\n",
            "Epoch 85/100\n",
            "1/1 [==============================] - 0s 10ms/step - loss: 6.9956 - mae: 6.9956\n",
            "Epoch 86/100\n",
            "1/1 [==============================] - 0s 10ms/step - loss: 6.9900 - mae: 6.9900\n",
            "Epoch 87/100\n",
            "1/1 [==============================] - 0s 9ms/step - loss: 6.9844 - mae: 6.9844\n",
            "Epoch 88/100\n",
            "1/1 [==============================] - 0s 9ms/step - loss: 6.9788 - mae: 6.9788\n",
            "Epoch 89/100\n",
            "1/1 [==============================] - 0s 9ms/step - loss: 6.9731 - mae: 6.9731\n",
            "Epoch 90/100\n",
            "1/1 [==============================] - 0s 9ms/step - loss: 6.9675 - mae: 6.9675\n",
            "Epoch 91/100\n",
            "1/1 [==============================] - 0s 9ms/step - loss: 6.9619 - mae: 6.9619\n",
            "Epoch 92/100\n",
            "1/1 [==============================] - 0s 9ms/step - loss: 6.9563 - mae: 6.9563\n",
            "Epoch 93/100\n",
            "1/1 [==============================] - 0s 9ms/step - loss: 6.9506 - mae: 6.9506\n",
            "Epoch 94/100\n",
            "1/1 [==============================] - 0s 9ms/step - loss: 6.9450 - mae: 6.9450\n",
            "Epoch 95/100\n",
            "1/1 [==============================] - 0s 10ms/step - loss: 6.9394 - mae: 6.9394\n",
            "Epoch 96/100\n",
            "1/1 [==============================] - 0s 10ms/step - loss: 6.9338 - mae: 6.9338\n",
            "Epoch 97/100\n",
            "1/1 [==============================] - 0s 10ms/step - loss: 6.9281 - mae: 6.9281\n",
            "Epoch 98/100\n",
            "1/1 [==============================] - 0s 12ms/step - loss: 6.9225 - mae: 6.9225\n",
            "Epoch 99/100\n",
            "1/1 [==============================] - 0s 12ms/step - loss: 6.9169 - mae: 6.9169\n",
            "Epoch 100/100\n",
            "1/1 [==============================] - 0s 9ms/step - loss: 6.9113 - mae: 6.9113\n"
          ]
        },
        {
          "output_type": "execute_result",
          "data": {
            "text/plain": [
              "<keras.callbacks.History at 0x7f4d8c4b1240>"
            ]
          },
          "metadata": {},
          "execution_count": 7
        }
      ]
    },
    {
      "cell_type": "code",
      "source": [
        "y_preds = model.predict([17])\n",
        "y_preds"
      ],
      "metadata": {
        "colab": {
          "base_uri": "https://localhost:8080/"
        },
        "id": "ftrmTl6Jg3Vt",
        "outputId": "cc31bcc4-9fa2-48bb-edcd-c41a8d134343"
      },
      "execution_count": 8,
      "outputs": [
        {
          "output_type": "stream",
          "name": "stdout",
          "text": [
            "1/1 [==============================] - 0s 79ms/step\n"
          ]
        },
        {
          "output_type": "execute_result",
          "data": {
            "text/plain": [
              "array([[30.217033]], dtype=float32)"
            ]
          },
          "metadata": {},
          "execution_count": 8
        }
      ]
    },
    {
      "cell_type": "code",
      "source": [
        "tf.random.set_seed(42)\n",
        "model = tf.keras.Sequential([\n",
        "tf.keras.layers.Dense(50 , activation=None),\n",
        "  tf.keras.layers.Dense(1)\n",
        "])\n",
        "\n",
        "# Compile the model\n",
        "model.compile(loss=tf.keras.losses.mae, \n",
        "              optimizer=tf.keras.optimizers.Adam(lr=0.01),\n",
        "              metrics=[\"mae\"])\n",
        "\n",
        "model.fit(tf.expand_dims(X, axis=-1), y, epochs=100)"
      ],
      "metadata": {
        "colab": {
          "base_uri": "https://localhost:8080/"
        },
        "id": "PfzeR6c3g_lb",
        "outputId": "817f9d02-1c9e-45b5-896a-e51e99ad2a6c"
      },
      "execution_count": 9,
      "outputs": [
        {
          "output_type": "stream",
          "name": "stderr",
          "text": [
            "WARNING:absl:`lr` is deprecated in Keras optimizer, please use `learning_rate` or use the legacy optimizer, e.g.,tf.keras.optimizers.legacy.Adam.\n"
          ]
        },
        {
          "output_type": "stream",
          "name": "stdout",
          "text": [
            "Epoch 1/100\n",
            "1/1 [==============================] - 1s 626ms/step - loss: 12.7982 - mae: 12.7982\n",
            "Epoch 2/100\n",
            "1/1 [==============================] - 0s 11ms/step - loss: 12.7271 - mae: 12.7271\n",
            "Epoch 3/100\n",
            "1/1 [==============================] - 0s 12ms/step - loss: 12.6560 - mae: 12.6560\n",
            "Epoch 4/100\n",
            "1/1 [==============================] - 0s 11ms/step - loss: 12.5850 - mae: 12.5850\n",
            "Epoch 5/100\n",
            "1/1 [==============================] - 0s 11ms/step - loss: 12.5140 - mae: 12.5140\n",
            "Epoch 6/100\n",
            "1/1 [==============================] - 0s 13ms/step - loss: 12.4431 - mae: 12.4431\n",
            "Epoch 7/100\n",
            "1/1 [==============================] - 0s 9ms/step - loss: 12.3723 - mae: 12.3723\n",
            "Epoch 8/100\n",
            "1/1 [==============================] - 0s 12ms/step - loss: 12.3016 - mae: 12.3016\n",
            "Epoch 9/100\n",
            "1/1 [==============================] - 0s 11ms/step - loss: 12.2309 - mae: 12.2309\n",
            "Epoch 10/100\n",
            "1/1 [==============================] - 0s 10ms/step - loss: 12.1602 - mae: 12.1602\n",
            "Epoch 11/100\n",
            "1/1 [==============================] - 0s 10ms/step - loss: 12.0896 - mae: 12.0896\n",
            "Epoch 12/100\n",
            "1/1 [==============================] - 0s 10ms/step - loss: 12.0190 - mae: 12.0190\n",
            "Epoch 13/100\n",
            "1/1 [==============================] - 0s 10ms/step - loss: 11.9485 - mae: 11.9485\n",
            "Epoch 14/100\n",
            "1/1 [==============================] - 0s 13ms/step - loss: 11.8780 - mae: 11.8780\n",
            "Epoch 15/100\n",
            "1/1 [==============================] - 0s 17ms/step - loss: 11.8075 - mae: 11.8075\n",
            "Epoch 16/100\n",
            "1/1 [==============================] - 0s 10ms/step - loss: 11.7370 - mae: 11.7370\n",
            "Epoch 17/100\n",
            "1/1 [==============================] - 0s 13ms/step - loss: 11.6665 - mae: 11.6665\n",
            "Epoch 18/100\n",
            "1/1 [==============================] - 0s 12ms/step - loss: 11.5961 - mae: 11.5961\n",
            "Epoch 19/100\n",
            "1/1 [==============================] - 0s 10ms/step - loss: 11.5256 - mae: 11.5256\n",
            "Epoch 20/100\n",
            "1/1 [==============================] - 0s 13ms/step - loss: 11.4551 - mae: 11.4551\n",
            "Epoch 21/100\n",
            "1/1 [==============================] - 0s 16ms/step - loss: 11.3847 - mae: 11.3847\n",
            "Epoch 22/100\n",
            "1/1 [==============================] - 0s 11ms/step - loss: 11.3142 - mae: 11.3142\n",
            "Epoch 23/100\n",
            "1/1 [==============================] - 0s 11ms/step - loss: 11.2436 - mae: 11.2436\n",
            "Epoch 24/100\n",
            "1/1 [==============================] - 0s 10ms/step - loss: 11.1731 - mae: 11.1731\n",
            "Epoch 25/100\n",
            "1/1 [==============================] - 0s 10ms/step - loss: 11.1025 - mae: 11.1025\n",
            "Epoch 26/100\n",
            "1/1 [==============================] - 0s 10ms/step - loss: 11.0319 - mae: 11.0319\n",
            "Epoch 27/100\n",
            "1/1 [==============================] - 0s 10ms/step - loss: 10.9611 - mae: 10.9611\n",
            "Epoch 28/100\n",
            "1/1 [==============================] - 0s 9ms/step - loss: 10.8904 - mae: 10.8904\n",
            "Epoch 29/100\n",
            "1/1 [==============================] - 0s 11ms/step - loss: 10.8195 - mae: 10.8195\n",
            "Epoch 30/100\n",
            "1/1 [==============================] - 0s 9ms/step - loss: 10.7486 - mae: 10.7486\n",
            "Epoch 31/100\n",
            "1/1 [==============================] - 0s 9ms/step - loss: 10.6776 - mae: 10.6776\n",
            "Epoch 32/100\n",
            "1/1 [==============================] - 0s 9ms/step - loss: 10.6065 - mae: 10.6065\n",
            "Epoch 33/100\n",
            "1/1 [==============================] - 0s 9ms/step - loss: 10.5352 - mae: 10.5352\n",
            "Epoch 34/100\n",
            "1/1 [==============================] - 0s 9ms/step - loss: 10.4639 - mae: 10.4639\n",
            "Epoch 35/100\n",
            "1/1 [==============================] - 0s 9ms/step - loss: 10.3924 - mae: 10.3924\n",
            "Epoch 36/100\n",
            "1/1 [==============================] - 0s 9ms/step - loss: 10.3208 - mae: 10.3208\n",
            "Epoch 37/100\n",
            "1/1 [==============================] - 0s 9ms/step - loss: 10.2490 - mae: 10.2490\n",
            "Epoch 38/100\n",
            "1/1 [==============================] - 0s 10ms/step - loss: 10.1771 - mae: 10.1771\n",
            "Epoch 39/100\n",
            "1/1 [==============================] - 0s 10ms/step - loss: 10.1050 - mae: 10.1050\n",
            "Epoch 40/100\n",
            "1/1 [==============================] - 0s 10ms/step - loss: 10.0327 - mae: 10.0327\n",
            "Epoch 41/100\n",
            "1/1 [==============================] - 0s 9ms/step - loss: 9.9602 - mae: 9.9602\n",
            "Epoch 42/100\n",
            "1/1 [==============================] - 0s 9ms/step - loss: 9.8876 - mae: 9.8876\n",
            "Epoch 43/100\n",
            "1/1 [==============================] - 0s 10ms/step - loss: 9.8147 - mae: 9.8147\n",
            "Epoch 44/100\n",
            "1/1 [==============================] - 0s 16ms/step - loss: 9.7416 - mae: 9.7416\n",
            "Epoch 45/100\n",
            "1/1 [==============================] - 0s 10ms/step - loss: 9.6683 - mae: 9.6683\n",
            "Epoch 46/100\n",
            "1/1 [==============================] - 0s 10ms/step - loss: 9.5948 - mae: 9.5948\n",
            "Epoch 47/100\n",
            "1/1 [==============================] - 0s 12ms/step - loss: 9.5210 - mae: 9.5210\n",
            "Epoch 48/100\n",
            "1/1 [==============================] - 0s 10ms/step - loss: 9.4470 - mae: 9.4470\n",
            "Epoch 49/100\n",
            "1/1 [==============================] - 0s 10ms/step - loss: 9.3728 - mae: 9.3728\n",
            "Epoch 50/100\n",
            "1/1 [==============================] - 0s 8ms/step - loss: 9.2982 - mae: 9.2982\n",
            "Epoch 51/100\n",
            "1/1 [==============================] - 0s 8ms/step - loss: 9.2234 - mae: 9.2234\n",
            "Epoch 52/100\n",
            "1/1 [==============================] - 0s 8ms/step - loss: 9.1483 - mae: 9.1483\n",
            "Epoch 53/100\n",
            "1/1 [==============================] - 0s 9ms/step - loss: 9.0730 - mae: 9.0730\n",
            "Epoch 54/100\n",
            "1/1 [==============================] - 0s 9ms/step - loss: 8.9973 - mae: 8.9973\n",
            "Epoch 55/100\n",
            "1/1 [==============================] - 0s 11ms/step - loss: 8.9214 - mae: 8.9214\n",
            "Epoch 56/100\n",
            "1/1 [==============================] - 0s 9ms/step - loss: 8.8451 - mae: 8.8451\n",
            "Epoch 57/100\n",
            "1/1 [==============================] - 0s 9ms/step - loss: 8.7685 - mae: 8.7685\n",
            "Epoch 58/100\n",
            "1/1 [==============================] - 0s 10ms/step - loss: 8.6916 - mae: 8.6916\n",
            "Epoch 59/100\n",
            "1/1 [==============================] - 0s 9ms/step - loss: 8.6143 - mae: 8.6143\n",
            "Epoch 60/100\n",
            "1/1 [==============================] - 0s 9ms/step - loss: 8.5368 - mae: 8.5368\n",
            "Epoch 61/100\n",
            "1/1 [==============================] - 0s 9ms/step - loss: 8.4588 - mae: 8.4588\n",
            "Epoch 62/100\n",
            "1/1 [==============================] - 0s 9ms/step - loss: 8.3806 - mae: 8.3806\n",
            "Epoch 63/100\n",
            "1/1 [==============================] - 0s 11ms/step - loss: 8.3019 - mae: 8.3019\n",
            "Epoch 64/100\n",
            "1/1 [==============================] - 0s 9ms/step - loss: 8.2229 - mae: 8.2229\n",
            "Epoch 65/100\n",
            "1/1 [==============================] - 0s 9ms/step - loss: 8.1436 - mae: 8.1436\n",
            "Epoch 66/100\n",
            "1/1 [==============================] - 0s 10ms/step - loss: 8.0638 - mae: 8.0638\n",
            "Epoch 67/100\n",
            "1/1 [==============================] - 0s 13ms/step - loss: 7.9837 - mae: 7.9837\n",
            "Epoch 68/100\n",
            "1/1 [==============================] - 0s 10ms/step - loss: 7.9032 - mae: 7.9032\n",
            "Epoch 69/100\n",
            "1/1 [==============================] - 0s 10ms/step - loss: 7.8223 - mae: 7.8223\n",
            "Epoch 70/100\n",
            "1/1 [==============================] - 0s 10ms/step - loss: 7.7410 - mae: 7.7410\n",
            "Epoch 71/100\n",
            "1/1 [==============================] - 0s 10ms/step - loss: 7.6592 - mae: 7.6592\n",
            "Epoch 72/100\n",
            "1/1 [==============================] - 0s 9ms/step - loss: 7.5771 - mae: 7.5771\n",
            "Epoch 73/100\n",
            "1/1 [==============================] - 0s 10ms/step - loss: 7.4945 - mae: 7.4945\n",
            "Epoch 74/100\n",
            "1/1 [==============================] - 0s 10ms/step - loss: 7.4115 - mae: 7.4115\n",
            "Epoch 75/100\n",
            "1/1 [==============================] - 0s 16ms/step - loss: 7.3281 - mae: 7.3281\n",
            "Epoch 76/100\n",
            "1/1 [==============================] - 0s 10ms/step - loss: 7.2443 - mae: 7.2443\n",
            "Epoch 77/100\n",
            "1/1 [==============================] - 0s 9ms/step - loss: 7.1599 - mae: 7.1599\n",
            "Epoch 78/100\n",
            "1/1 [==============================] - 0s 9ms/step - loss: 7.0752 - mae: 7.0752\n",
            "Epoch 79/100\n",
            "1/1 [==============================] - 0s 9ms/step - loss: 6.9900 - mae: 6.9900\n",
            "Epoch 80/100\n",
            "1/1 [==============================] - 0s 9ms/step - loss: 6.9043 - mae: 6.9043\n",
            "Epoch 81/100\n",
            "1/1 [==============================] - 0s 8ms/step - loss: 6.8658 - mae: 6.8658\n",
            "Epoch 82/100\n",
            "1/1 [==============================] - 0s 9ms/step - loss: 6.8560 - mae: 6.8560\n",
            "Epoch 83/100\n",
            "1/1 [==============================] - 0s 8ms/step - loss: 6.8465 - mae: 6.8465\n",
            "Epoch 84/100\n",
            "1/1 [==============================] - 0s 9ms/step - loss: 6.8371 - mae: 6.8371\n",
            "Epoch 85/100\n",
            "1/1 [==============================] - 0s 9ms/step - loss: 6.8279 - mae: 6.8279\n",
            "Epoch 86/100\n",
            "1/1 [==============================] - 0s 9ms/step - loss: 6.8188 - mae: 6.8188\n",
            "Epoch 87/100\n",
            "1/1 [==============================] - 0s 9ms/step - loss: 6.8099 - mae: 6.8099\n",
            "Epoch 88/100\n",
            "1/1 [==============================] - 0s 9ms/step - loss: 6.8011 - mae: 6.8011\n",
            "Epoch 89/100\n",
            "1/1 [==============================] - 0s 10ms/step - loss: 6.7924 - mae: 6.7924\n",
            "Epoch 90/100\n",
            "1/1 [==============================] - 0s 9ms/step - loss: 6.7837 - mae: 6.7837\n",
            "Epoch 91/100\n",
            "1/1 [==============================] - 0s 10ms/step - loss: 6.7752 - mae: 6.7752\n",
            "Epoch 92/100\n",
            "1/1 [==============================] - 0s 10ms/step - loss: 6.7667 - mae: 6.7667\n",
            "Epoch 93/100\n",
            "1/1 [==============================] - 0s 8ms/step - loss: 6.7583 - mae: 6.7583\n",
            "Epoch 94/100\n",
            "1/1 [==============================] - 0s 10ms/step - loss: 6.7499 - mae: 6.7499\n",
            "Epoch 95/100\n",
            "1/1 [==============================] - 0s 8ms/step - loss: 6.7577 - mae: 6.7577\n",
            "Epoch 96/100\n",
            "1/1 [==============================] - 0s 11ms/step - loss: 6.7615 - mae: 6.7615\n",
            "Epoch 97/100\n",
            "1/1 [==============================] - 0s 14ms/step - loss: 6.7595 - mae: 6.7595\n",
            "Epoch 98/100\n",
            "1/1 [==============================] - 0s 13ms/step - loss: 6.7522 - mae: 6.7522\n",
            "Epoch 99/100\n",
            "1/1 [==============================] - 0s 13ms/step - loss: 6.7402 - mae: 6.7402\n",
            "Epoch 100/100\n",
            "1/1 [==============================] - 0s 10ms/step - loss: 6.7240 - mae: 6.7240\n"
          ]
        },
        {
          "output_type": "execute_result",
          "data": {
            "text/plain": [
              "<keras.callbacks.History at 0x7f4d8f797100>"
            ]
          },
          "metadata": {},
          "execution_count": 9
        }
      ]
    },
    {
      "cell_type": "code",
      "source": [
        "y_preds = model.predict([17])\n",
        "y_preds"
      ],
      "metadata": {
        "colab": {
          "base_uri": "https://localhost:8080/"
        },
        "id": "jSy-sbLfwHDg",
        "outputId": "cc013a1d-8060-4edf-bb2a-0b4309ebb7ba"
      },
      "execution_count": 10,
      "outputs": [
        {
          "output_type": "stream",
          "name": "stdout",
          "text": [
            "1/1 [==============================] - 0s 73ms/step\n"
          ]
        },
        {
          "output_type": "execute_result",
          "data": {
            "text/plain": [
              "array([[31.899927]], dtype=float32)"
            ]
          },
          "metadata": {},
          "execution_count": 10
        }
      ]
    },
    {
      "cell_type": "markdown",
      "source": [
        "## Evaluating the model\n",
        "When it comes to evaluation.... there are 3 words you should memorize:\n",
        "\n",
        "\"visaulize\",\"visualize\",\"visualize\"\n",
        "\n",
        "It's a good idea to visualize:\n",
        "* The data- What data are we working with? What does it look like?\n",
        "* The model itself - what does our model look like?\n",
        "* The training of a model - how does a model perform while it learns?\n",
        "* The predictions of the middle - how do the predictions of a model line up against the ground truth(the original labels)?"
      ],
      "metadata": {
        "id": "FTwVpJQHwitk"
      }
    },
    {
      "cell_type": "code",
      "source": [
        "X = tf.range(-100,100,4)"
      ],
      "metadata": {
        "id": "frjDoyzBze7-"
      },
      "execution_count": 11,
      "outputs": []
    },
    {
      "cell_type": "code",
      "source": [
        "X"
      ],
      "metadata": {
        "colab": {
          "base_uri": "https://localhost:8080/"
        },
        "id": "8FSNpTJ00OFx",
        "outputId": "09ee3055-02fd-48cb-befa-435d20652afb"
      },
      "execution_count": 12,
      "outputs": [
        {
          "output_type": "execute_result",
          "data": {
            "text/plain": [
              "<tf.Tensor: shape=(50,), dtype=int32, numpy=\n",
              "array([-100,  -96,  -92,  -88,  -84,  -80,  -76,  -72,  -68,  -64,  -60,\n",
              "        -56,  -52,  -48,  -44,  -40,  -36,  -32,  -28,  -24,  -20,  -16,\n",
              "        -12,   -8,   -4,    0,    4,    8,   12,   16,   20,   24,   28,\n",
              "         32,   36,   40,   44,   48,   52,   56,   60,   64,   68,   72,\n",
              "         76,   80,   84,   88,   92,   96], dtype=int32)>"
            ]
          },
          "metadata": {},
          "execution_count": 12
        }
      ]
    },
    {
      "cell_type": "code",
      "source": [
        "y = X+10\n",
        "y"
      ],
      "metadata": {
        "colab": {
          "base_uri": "https://localhost:8080/"
        },
        "id": "hjgtNe9F0OzE",
        "outputId": "170838e1-a06e-47d6-a60a-b4890212fef7"
      },
      "execution_count": 13,
      "outputs": [
        {
          "output_type": "execute_result",
          "data": {
            "text/plain": [
              "<tf.Tensor: shape=(50,), dtype=int32, numpy=\n",
              "array([-90, -86, -82, -78, -74, -70, -66, -62, -58, -54, -50, -46, -42,\n",
              "       -38, -34, -30, -26, -22, -18, -14, -10,  -6,  -2,   2,   6,  10,\n",
              "        14,  18,  22,  26,  30,  34,  38,  42,  46,  50,  54,  58,  62,\n",
              "        66,  70,  74,  78,  82,  86,  90,  94,  98, 102, 106], dtype=int32)>"
            ]
          },
          "metadata": {},
          "execution_count": 13
        }
      ]
    },
    {
      "cell_type": "code",
      "source": [
        "import matplotlib.pyplot as plt\n",
        "\n",
        "plt.scatter(X,y)\n"
      ],
      "metadata": {
        "colab": {
          "base_uri": "https://localhost:8080/",
          "height": 447
        },
        "id": "cxFJAIYG0STm",
        "outputId": "58776ed4-57e5-409a-b0d6-77f368a89826"
      },
      "execution_count": 14,
      "outputs": [
        {
          "output_type": "execute_result",
          "data": {
            "text/plain": [
              "<matplotlib.collections.PathCollection at 0x7f4d8efeb550>"
            ]
          },
          "metadata": {},
          "execution_count": 14
        },
        {
          "output_type": "display_data",
          "data": {
            "text/plain": [
              "<Figure size 640x480 with 1 Axes>"
            ],
            "image/png": "[encoded data removed]"
          },
          "metadata": {}
        }
      ]
    },
    {
      "cell_type": "markdown",
      "source": [
        "### 3 sets.....\n",
        "* Training set\n",
        "* Validation set\n",
        "* Test set"
      ],
      "metadata": {
        "id": "Bx5l85kA0dwy"
      }
    },
    {
      "cell_type": "code",
      "source": [
        " x_train = X[:40]\n",
        " y_train = y[:40]\n",
        "\n",
        " x_test = X[40:]\n",
        " y_test = y[40:]\n",
        "\n"
      ],
      "metadata": {
        "id": "1ezdSwqR6xTL"
      },
      "execution_count": 15,
      "outputs": []
    },
    {
      "cell_type": "code",
      "source": [
        "len(x_test\n",
        "    )"
      ],
      "metadata": {
        "colab": {
          "base_uri": "https://localhost:8080/"
        },
        "id": "9o8wf_y66wHr",
        "outputId": "c4cf06b5-dfb8-4826-875a-f976193fbcda"
      },
      "execution_count": 16,
      "outputs": [
        {
          "output_type": "execute_result",
          "data": {
            "text/plain": [
              "10"
            ]
          },
          "metadata": {},
          "execution_count": 16
        }
      ]
    },
    {
      "cell_type": "code",
      "source": [
        "### Visualizing the data\n",
        "plt.figure(figsize=(10,7))\n",
        "\n",
        "plt.scatter(x_train, y_train,c=\"b\",label=\"Training data\")\n",
        "\n",
        "plt.scatter(x_test,y_test,c=\"g\",label = \"Testing data\")\n"
      ],
      "metadata": {
        "colab": {
          "base_uri": "https://localhost:8080/",
          "height": 616
        },
        "id": "NBmgSXea9MpJ",
        "outputId": "d3ddecbf-8ab3-4b33-adc0-cbcb259d62d9"
      },
      "execution_count": 17,
      "outputs": [
        {
          "output_type": "execute_result",
          "data": {
            "text/plain": [
              "<matplotlib.collections.PathCollection at 0x7f4d8f05b280>"
            ]
          },
          "metadata": {},
          "execution_count": 17
        },
        {
          "output_type": "display_data",
          "data": {
            "text/plain": [
              "<Figure size 1000x700 with 1 Axes>"
            ],
            "image/png": "[encoded data removed]"
          },
          "metadata": {}
        }
      ]
    },
    {
      "cell_type": "code",
      "source": [
        "tf.random.set_seed(42)\n",
        "model1 = tf.keras.Sequential([\n",
        "    tf.keras.layers.Dense(100 ,activation=\"relu\"),\n",
        "    tf.keras.layers.Dense(1)\n",
        "\n",
        "], name=\"model_1\")\n",
        "\n",
        "model1.compile(loss = tf.keras.losses.mae,\n",
        "               optimizer=tf.keras.optimizers.Adam(lr=0.01),\n",
        "               metrics=\"mae\")\n",
        "model1.fit(tf.expand_dims(x_train,axis=-1),y_train , epochs =100)"
      ],
      "metadata": {
        "colab": {
          "base_uri": "https://localhost:8080/"
        },
        "id": "wOvm_ILa9_bJ",
        "outputId": "e604d7b1-3ef9-4671-b648-89c2ea15dba3"
      },
      "execution_count": 18,
      "outputs": [
        {
          "output_type": "stream",
          "name": "stderr",
          "text": [
            "WARNING:absl:`lr` is deprecated in Keras optimizer, please use `learning_rate` or use the legacy optimizer, e.g.,tf.keras.optimizers.legacy.Adam.\n"
          ]
        },
        {
          "output_type": "stream",
          "name": "stdout",
          "text": [
            "Epoch 1/100\n",
            "2/2 [==============================] - 1s 16ms/step - loss: 39.6400 - mae: 39.6400\n",
            "Epoch 2/100\n",
            "2/2 [==============================] - 0s 7ms/step - loss: 38.5406 - mae: 38.5406\n",
            "Epoch 3/100\n",
            "2/2 [==============================] - 0s 7ms/step - loss: 37.5013 - mae: 37.5013\n",
            "Epoch 4/100\n",
            "2/2 [==============================] - 0s 7ms/step - loss: 36.4353 - mae: 36.4353\n",
            "Epoch 5/100\n",
            "2/2 [==============================] - 0s 8ms/step - loss: 35.3981 - mae: 35.3981\n",
            "Epoch 6/100\n",
            "2/2 [==============================] - 0s 7ms/step - loss: 34.3487 - mae: 34.3487\n",
            "Epoch 7/100\n",
            "2/2 [==============================] - 0s 7ms/step - loss: 33.3048 - mae: 33.3048\n",
            "Epoch 8/100\n",
            "2/2 [==============================] - 0s 7ms/step - loss: 32.2298 - mae: 32.2298\n",
            "Epoch 9/100\n",
            "2/2 [==============================] - 0s 8ms/step - loss: 31.2376 - mae: 31.2376\n",
            "Epoch 10/100\n",
            "2/2 [==============================] - 0s 7ms/step - loss: 30.2329 - mae: 30.2329\n",
            "Epoch 11/100\n",
            "2/2 [==============================] - 0s 7ms/step - loss: 29.1403 - mae: 29.1403\n",
            "Epoch 12/100\n",
            "2/2 [==============================] - 0s 8ms/step - loss: 28.1298 - mae: 28.1298\n",
            "Epoch 13/100\n",
            "2/2 [==============================] - 0s 7ms/step - loss: 27.0485 - mae: 27.0485\n",
            "Epoch 14/100\n",
            "2/2 [==============================] - 0s 10ms/step - loss: 26.0185 - mae: 26.0185\n",
            "Epoch 15/100\n",
            "2/2 [==============================] - 0s 11ms/step - loss: 24.9911 - mae: 24.9911\n",
            "Epoch 16/100\n",
            "2/2 [==============================] - 0s 7ms/step - loss: 23.9185 - mae: 23.9185\n",
            "Epoch 17/100\n",
            "2/2 [==============================] - 0s 8ms/step - loss: 22.8716 - mae: 22.8716\n",
            "Epoch 18/100\n",
            "2/2 [==============================] - 0s 8ms/step - loss: 21.8156 - mae: 21.8156\n",
            "Epoch 19/100\n",
            "2/2 [==============================] - 0s 7ms/step - loss: 20.7975 - mae: 20.7975\n",
            "Epoch 20/100\n",
            "2/2 [==============================] - 0s 7ms/step - loss: 19.7376 - mae: 19.7376\n",
            "Epoch 21/100\n",
            "2/2 [==============================] - 0s 8ms/step - loss: 18.7172 - mae: 18.7172\n",
            "Epoch 22/100\n",
            "2/2 [==============================] - 0s 7ms/step - loss: 17.7301 - mae: 17.7301\n",
            "Epoch 23/100\n",
            "2/2 [==============================] - 0s 8ms/step - loss: 16.7217 - mae: 16.7217\n",
            "Epoch 24/100\n",
            "2/2 [==============================] - 0s 8ms/step - loss: 15.7017 - mae: 15.7017\n",
            "Epoch 25/100\n",
            "2/2 [==============================] - 0s 9ms/step - loss: 14.7107 - mae: 14.7107\n",
            "Epoch 26/100\n",
            "2/2 [==============================] - 0s 7ms/step - loss: 13.7786 - mae: 13.7786\n",
            "Epoch 27/100\n",
            "2/2 [==============================] - 0s 7ms/step - loss: 12.8283 - mae: 12.8283\n",
            "Epoch 28/100\n",
            "2/2 [==============================] - 0s 10ms/step - loss: 11.9953 - mae: 11.9953\n",
            "Epoch 29/100\n",
            "2/2 [==============================] - 0s 6ms/step - loss: 11.0788 - mae: 11.0788\n",
            "Epoch 30/100\n",
            "2/2 [==============================] - 0s 10ms/step - loss: 10.2888 - mae: 10.2888\n",
            "Epoch 31/100\n",
            "2/2 [==============================] - 0s 8ms/step - loss: 9.8225 - mae: 9.8225\n",
            "Epoch 32/100\n",
            "2/2 [==============================] - 0s 10ms/step - loss: 9.4390 - mae: 9.4390\n",
            "Epoch 33/100\n",
            "2/2 [==============================] - 0s 7ms/step - loss: 9.2186 - mae: 9.2186\n",
            "Epoch 34/100\n",
            "2/2 [==============================] - 0s 8ms/step - loss: 9.1911 - mae: 9.1911\n",
            "Epoch 35/100\n",
            "2/2 [==============================] - 0s 7ms/step - loss: 9.1913 - mae: 9.1913\n",
            "Epoch 36/100\n",
            "2/2 [==============================] - 0s 9ms/step - loss: 8.9315 - mae: 8.9315\n",
            "Epoch 37/100\n",
            "2/2 [==============================] - 0s 7ms/step - loss: 8.4889 - mae: 8.4889\n",
            "Epoch 38/100\n",
            "2/2 [==============================] - 0s 8ms/step - loss: 8.0818 - mae: 8.0818\n",
            "Epoch 39/100\n",
            "2/2 [==============================] - 0s 6ms/step - loss: 7.6588 - mae: 7.6588\n",
            "Epoch 40/100\n",
            "2/2 [==============================] - 0s 7ms/step - loss: 7.3584 - mae: 7.3584\n",
            "Epoch 41/100\n",
            "2/2 [==============================] - 0s 7ms/step - loss: 7.0336 - mae: 7.0336\n",
            "Epoch 42/100\n",
            "2/2 [==============================] - 0s 7ms/step - loss: 6.7990 - mae: 6.7990\n",
            "Epoch 43/100\n",
            "2/2 [==============================] - 0s 7ms/step - loss: 6.5307 - mae: 6.5307\n",
            "Epoch 44/100\n",
            "2/2 [==============================] - 0s 6ms/step - loss: 6.2347 - mae: 6.2347\n",
            "Epoch 45/100\n",
            "2/2 [==============================] - 0s 7ms/step - loss: 5.9332 - mae: 5.9332\n",
            "Epoch 46/100\n",
            "2/2 [==============================] - 0s 6ms/step - loss: 5.6519 - mae: 5.6519\n",
            "Epoch 47/100\n",
            "2/2 [==============================] - 0s 7ms/step - loss: 5.3146 - mae: 5.3146\n",
            "Epoch 48/100\n",
            "2/2 [==============================] - 0s 8ms/step - loss: 4.9748 - mae: 4.9748\n",
            "Epoch 49/100\n",
            "2/2 [==============================] - 0s 7ms/step - loss: 4.6679 - mae: 4.6679\n",
            "Epoch 50/100\n",
            "2/2 [==============================] - 0s 7ms/step - loss: 4.3357 - mae: 4.3357\n",
            "Epoch 51/100\n",
            "2/2 [==============================] - 0s 7ms/step - loss: 4.1151 - mae: 4.1151\n",
            "Epoch 52/100\n",
            "2/2 [==============================] - 0s 6ms/step - loss: 4.0822 - mae: 4.0822\n",
            "Epoch 53/100\n",
            "2/2 [==============================] - 0s 6ms/step - loss: 4.0663 - mae: 4.0663\n",
            "Epoch 54/100\n",
            "2/2 [==============================] - 0s 7ms/step - loss: 4.0919 - mae: 4.0919\n",
            "Epoch 55/100\n",
            "2/2 [==============================] - 0s 8ms/step - loss: 4.1224 - mae: 4.1224\n",
            "Epoch 56/100\n",
            "2/2 [==============================] - 0s 8ms/step - loss: 4.1445 - mae: 4.1445\n",
            "Epoch 57/100\n",
            "2/2 [==============================] - 0s 7ms/step - loss: 4.1609 - mae: 4.1609\n",
            "Epoch 58/100\n",
            "2/2 [==============================] - 0s 7ms/step - loss: 4.1687 - mae: 4.1687\n",
            "Epoch 59/100\n",
            "2/2 [==============================] - 0s 6ms/step - loss: 4.1958 - mae: 4.1958\n",
            "Epoch 60/100\n",
            "2/2 [==============================] - 0s 7ms/step - loss: 4.1924 - mae: 4.1924\n",
            "Epoch 61/100\n",
            "2/2 [==============================] - 0s 8ms/step - loss: 4.1728 - mae: 4.1728\n",
            "Epoch 62/100\n",
            "2/2 [==============================] - 0s 7ms/step - loss: 4.1372 - mae: 4.1372\n",
            "Epoch 63/100\n",
            "2/2 [==============================] - 0s 6ms/step - loss: 4.1001 - mae: 4.1001\n",
            "Epoch 64/100\n",
            "2/2 [==============================] - 0s 7ms/step - loss: 4.0840 - mae: 4.0840\n",
            "Epoch 65/100\n",
            "2/2 [==============================] - 0s 8ms/step - loss: 4.0708 - mae: 4.0708\n",
            "Epoch 66/100\n",
            "2/2 [==============================] - 0s 8ms/step - loss: 4.0413 - mae: 4.0413\n",
            "Epoch 67/100\n",
            "2/2 [==============================] - 0s 7ms/step - loss: 4.0265 - mae: 4.0265\n",
            "Epoch 68/100\n",
            "2/2 [==============================] - 0s 6ms/step - loss: 4.0055 - mae: 4.0055\n",
            "Epoch 69/100\n",
            "2/2 [==============================] - 0s 8ms/step - loss: 3.9977 - mae: 3.9977\n",
            "Epoch 70/100\n",
            "2/2 [==============================] - 0s 8ms/step - loss: 3.9735 - mae: 3.9735\n",
            "Epoch 71/100\n",
            "2/2 [==============================] - 0s 6ms/step - loss: 3.9694 - mae: 3.9694\n",
            "Epoch 72/100\n",
            "2/2 [==============================] - 0s 8ms/step - loss: 3.9722 - mae: 3.9722\n",
            "Epoch 73/100\n",
            "2/2 [==============================] - 0s 8ms/step - loss: 3.9682 - mae: 3.9682\n",
            "Epoch 74/100\n",
            "2/2 [==============================] - 0s 7ms/step - loss: 3.9710 - mae: 3.9710\n",
            "Epoch 75/100\n",
            "2/2 [==============================] - 0s 6ms/step - loss: 3.9519 - mae: 3.9519\n",
            "Epoch 76/100\n",
            "2/2 [==============================] - 0s 7ms/step - loss: 3.9496 - mae: 3.9496\n",
            "Epoch 77/100\n",
            "2/2 [==============================] - 0s 7ms/step - loss: 3.9298 - mae: 3.9298\n",
            "Epoch 78/100\n",
            "2/2 [==============================] - 0s 10ms/step - loss: 3.9683 - mae: 3.9683\n",
            "Epoch 79/100\n",
            "2/2 [==============================] - 0s 9ms/step - loss: 3.9674 - mae: 3.9674\n",
            "Epoch 80/100\n",
            "2/2 [==============================] - 0s 8ms/step - loss: 3.9692 - mae: 3.9692\n",
            "Epoch 81/100\n",
            "2/2 [==============================] - 0s 11ms/step - loss: 3.9662 - mae: 3.9662\n",
            "Epoch 82/100\n",
            "2/2 [==============================] - 0s 7ms/step - loss: 3.9468 - mae: 3.9468\n",
            "Epoch 83/100\n",
            "2/2 [==============================] - 0s 8ms/step - loss: 3.9274 - mae: 3.9274\n",
            "Epoch 84/100\n",
            "2/2 [==============================] - 0s 7ms/step - loss: 3.9178 - mae: 3.9178\n",
            "Epoch 85/100\n",
            "2/2 [==============================] - 0s 8ms/step - loss: 3.8943 - mae: 3.8943\n",
            "Epoch 86/100\n",
            "2/2 [==============================] - 0s 8ms/step - loss: 3.8788 - mae: 3.8788\n",
            "Epoch 87/100\n",
            "2/2 [==============================] - 0s 8ms/step - loss: 3.8799 - mae: 3.8799\n",
            "Epoch 88/100\n",
            "2/2 [==============================] - 0s 8ms/step - loss: 3.9240 - mae: 3.9240\n",
            "Epoch 89/100\n",
            "2/2 [==============================] - 0s 7ms/step - loss: 3.9830 - mae: 3.9830\n",
            "Epoch 90/100\n",
            "2/2 [==============================] - 0s 7ms/step - loss: 4.0235 - mae: 4.0235\n",
            "Epoch 91/100\n",
            "2/2 [==============================] - 0s 7ms/step - loss: 4.0009 - mae: 4.0009\n",
            "Epoch 92/100\n",
            "2/2 [==============================] - 0s 8ms/step - loss: 3.9259 - mae: 3.9259\n",
            "Epoch 93/100\n",
            "2/2 [==============================] - 0s 7ms/step - loss: 3.8904 - mae: 3.8904\n",
            "Epoch 94/100\n",
            "2/2 [==============================] - 0s 7ms/step - loss: 3.8765 - mae: 3.8765\n",
            "Epoch 95/100\n",
            "2/2 [==============================] - 0s 9ms/step - loss: 3.8750 - mae: 3.8750\n",
            "Epoch 96/100\n",
            "2/2 [==============================] - 0s 7ms/step - loss: 3.9071 - mae: 3.9071\n",
            "Epoch 97/100\n",
            "2/2 [==============================] - 0s 7ms/step - loss: 3.8947 - mae: 3.8947\n",
            "Epoch 98/100\n",
            "2/2 [==============================] - 0s 8ms/step - loss: 3.8762 - mae: 3.8762\n",
            "Epoch 99/100\n",
            "2/2 [==============================] - 0s 7ms/step - loss: 3.8601 - mae: 3.8601\n",
            "Epoch 100/100\n",
            "2/2 [==============================] - 0s 7ms/step - loss: 3.8314 - mae: 3.8314\n"
          ]
        },
        {
          "output_type": "execute_result",
          "data": {
            "text/plain": [
              "<keras.callbacks.History at 0x7f4d8f0593f0>"
            ]
          },
          "metadata": {},
          "execution_count": 18
        }
      ]
    },
    {
      "cell_type": "code",
      "source": [
        "y_preds = model1.predict([90])\n",
        "y_preds"
      ],
      "metadata": {
        "colab": {
          "base_uri": "https://localhost:8080/"
        },
        "id": "lOAcVQL9_2aC",
        "outputId": "fa6feead-053a-4d66-c3bf-3d8d37eff574"
      },
      "execution_count": 19,
      "outputs": [
        {
          "output_type": "stream",
          "name": "stdout",
          "text": [
            "1/1 [==============================] - 0s 75ms/step\n"
          ]
        },
        {
          "output_type": "execute_result",
          "data": {
            "text/plain": [
              "array([[110.01764]], dtype=float32)"
            ]
          },
          "metadata": {},
          "execution_count": 19
        }
      ]
    },
    {
      "cell_type": "code",
      "source": [
        "model1.summary()"
      ],
      "metadata": {
        "colab": {
          "base_uri": "https://localhost:8080/"
        },
        "id": "zckvLpXGvkCK",
        "outputId": "12d99b40-0df6-4f00-d94b-ae252bc053cc"
      },
      "execution_count": 20,
      "outputs": [
        {
          "output_type": "stream",
          "name": "stdout",
          "text": [
            "Model: \"model_1\"\n",
            "_________________________________________________________________\n",
            " Layer (type)                Output Shape              Param #   \n",
            "=================================================================\n",
            " dense_4 (Dense)             (None, 100)               200       \n",
            "                                                                 \n",
            " dense_5 (Dense)             (None, 1)                 101       \n",
            "                                                                 \n",
            "=================================================================\n",
            "Total params: 301\n",
            "Trainable params: 301\n",
            "Non-trainable params: 0\n",
            "_________________________________________________________________\n"
          ]
        }
      ]
    },
    {
      "cell_type": "code",
      "source": [
        "from tensorflow.keras.utils import plot_model\n",
        "\n",
        "plot_model(model=model , show_shapes=True)"
      ],
      "metadata": {
        "colab": {
          "base_uri": "https://localhost:8080/",
          "height": 312
        },
        "id": "qm9LsPdQzbWv",
        "outputId": "d6ca39d7-ed22-444c-89ab-496df577f2e1"
      },
      "execution_count": 21,
      "outputs": [
        {
          "output_type": "execute_result",
          "data": {
            "image/png": "[encoded data removed]",
            "text/plain": [
              "<IPython.core.display.Image object>"
            ]
          },
          "metadata": {},
          "execution_count": 21
        }
      ]
    },
    {
      "cell_type": "markdown",
      "source": [
        "### Visualizing our model's prediction\n",
        "The visualize predictions, it's a good idea to plot them against the ground truth\n",
        "labels.\n",
        "Often you'll see this int he form of y_test or y_true versus y_preds(ground truth versus our model's predictions)"
      ],
      "metadata": {
        "id": "aW_4D3Us0H-U"
      }
    },
    {
      "cell_type": "code",
      "source": [
        "y_pred = model1.predict(x_test)\n",
        "y_pred"
      ],
      "metadata": {
        "colab": {
          "base_uri": "https://localhost:8080/"
        },
        "id": "ZZeF8P7_6r1J",
        "outputId": "e2062f1b-c7d4-43fd-859d-e714ebe98f9c"
      },
      "execution_count": 22,
      "outputs": [
        {
          "output_type": "stream",
          "name": "stderr",
          "text": [
            "WARNING:tensorflow:5 out of the last 5 calls to <function Model.make_predict_function.<locals>.predict_function at 0x7f4d8f082c20> triggered tf.function retracing. Tracing is expensive and the excessive number of tracings could be due to (1) creating @tf.function repeatedly in a loop, (2) passing tensors with different shapes, (3) passing Python objects instead of tensors. For (1), please define your @tf.function outside of the loop. For (2), @tf.function has reduce_retracing=True option that can avoid unnecessary retracing. For (3), please refer to https://www.tensorflow.org/guide/function#controlling_retracing and https://www.tensorflow.org/api_docs/python/tf/function for  more details.\n"
          ]
        },
        {
          "output_type": "stream",
          "name": "stdout",
          "text": [
            "1/1 [==============================] - 0s 59ms/step\n"
          ]
        },
        {
          "output_type": "execute_result",
          "data": {
            "text/plain": [
              "array([[ 73.77443],\n",
              "       [ 78.60684],\n",
              "       [ 83.43927],\n",
              "       [ 88.27171],\n",
              "       [ 93.10414],\n",
              "       [ 97.93657],\n",
              "       [102.76899],\n",
              "       [107.60143],\n",
              "       [112.43386],\n",
              "       [117.26629]], dtype=float32)"
            ]
          },
          "metadata": {},
          "execution_count": 22
        }
      ]
    },
    {
      "cell_type": "code",
      "source": [
        "y_test"
      ],
      "metadata": {
        "colab": {
          "base_uri": "https://localhost:8080/"
        },
        "id": "tQ3swwru8j0C",
        "outputId": "0c1937d8-bfb9-48a7-8bc4-ac3aa6847cc7"
      },
      "execution_count": 23,
      "outputs": [
        {
          "output_type": "execute_result",
          "data": {
            "text/plain": [
              "<tf.Tensor: shape=(10,), dtype=int32, numpy=array([ 70,  74,  78,  82,  86,  90,  94,  98, 102, 106], dtype=int32)>"
            ]
          },
          "metadata": {},
          "execution_count": 23
        }
      ]
    },
    {
      "cell_type": "code",
      "source": [
        "## ploting fucntion\n",
        "def plot_prediction(train_data= x_train,\n",
        "                    train_label= y_train,\n",
        "                    test_data=x_test,\n",
        "                    test_labels=y_test\n",
        "                    ,predict_label=y_pred):\n",
        "  \n",
        "  plt.figure(figsize=(10,7))\n",
        "\n",
        "  plt.scatter(train_data,train_label,c=\"b\",label = \"Training Data\")\n",
        "  plt.scatter(test_data , test_labels , c=\"g\", label= \"Training Data\")\n",
        "  plt.scatter(test_data , predict_label , c=\"r\" , label= \"Predicted labels\")\n",
        "  plt.legend()\n"
      ],
      "metadata": {
        "id": "V9ZmSEAP81Fa"
      },
      "execution_count": 24,
      "outputs": []
    },
    {
      "cell_type": "code",
      "source": [
        "plot_prediction()"
      ],
      "metadata": {
        "colab": {
          "base_uri": "https://localhost:8080/",
          "height": 599
        },
        "id": "zIafGd3f9GTT",
        "outputId": "f56fa0e2-96a0-46c4-c574-903971c9b336"
      },
      "execution_count": 25,
      "outputs": [
        {
          "output_type": "display_data",
          "data": {
            "text/plain": [
              "<Figure size 1000x700 with 1 Axes>"
            ],
            "image/png": "[encoded data removed]"
          },
          "metadata": {}
        }
      ]
    },
    {
      "cell_type": "markdown",
      "source": [
        "## Evaluating our model's prediction with Regression evaluation metrics\n",
        "Depending on the problem you're working on, there will be different evaluation metrics to evalaute  our model's performance.\n",
        "\n",
        "since we're working on a regression two of the main metrics:\n",
        "* MAE- mean absolute error ,\"on an average, how worng is each of my model's predictions\"\n",
        "* MSE- mean sqaure error,\" sqaure the average errors\""
      ],
      "metadata": {
        "id": "xF3c78ro9SKK"
      }
    },
    {
      "cell_type": "code",
      "source": [
        "model1.evaluate(x_test,y_test)"
      ],
      "metadata": {
        "colab": {
          "base_uri": "https://localhost:8080/"
        },
        "id": "F_FGsVtcAs3x",
        "outputId": "c75908dd-3d86-4f88-ff69-e30ba6224271"
      },
      "execution_count": 26,
      "outputs": [
        {
          "output_type": "stream",
          "name": "stdout",
          "text": [
            "1/1 [==============================] - 1s 588ms/step - loss: 7.5204 - mae: 7.5204\n"
          ]
        },
        {
          "output_type": "execute_result",
          "data": {
            "text/plain": [
              "[7.520355224609375, 7.520355224609375]"
            ]
          },
          "metadata": {},
          "execution_count": 26
        }
      ]
    },
    {
      "cell_type": "code",
      "source": [
        "tf.metrics.mean_absolute_error(y_test ,tf.squeeze(y_pred))"
      ],
      "metadata": {
        "colab": {
          "base_uri": "https://localhost:8080/"
        },
        "id": "CUHIjQAXAytd",
        "outputId": "94906353-cd92-4f48-9205-fbcba49d27f2"
      },
      "execution_count": 27,
      "outputs": [
        {
          "output_type": "execute_result",
          "data": {
            "text/plain": [
              "<tf.Tensor: shape=(), dtype=float32, numpy=7.520354>"
            ]
          },
          "metadata": {},
          "execution_count": 27
        }
      ]
    },
    {
      "cell_type": "code",
      "source": [
        "tf.metrics.mean_squared_error(y_test , tf.squeeze(y_pred))"
      ],
      "metadata": {
        "colab": {
          "base_uri": "https://localhost:8080/"
        },
        "id": "mkvtcVQjBC3t",
        "outputId": "b8aeace8-44d2-479c-94f2-6ee71bef38f2"
      },
      "execution_count": 28,
      "outputs": [
        {
          "output_type": "execute_result",
          "data": {
            "text/plain": [
              "<tf.Tensor: shape=(), dtype=float32, numpy=62.272472>"
            ]
          },
          "metadata": {},
          "execution_count": 28
        }
      ]
    },
    {
      "cell_type": "markdown",
      "source": [
        "## A larger example "
      ],
      "metadata": {
        "id": "DuNBjFOcoBrN"
      }
    },
    {
      "cell_type": "code",
      "source": [
        "import tensorflow as tf\n",
        "import pandas as pd\n",
        "import matplotlib.pyplot as plt"
      ],
      "metadata": {
        "id": "wdV1_pqG7Z1X"
      },
      "execution_count": 1,
      "outputs": []
    },
    {
      "cell_type": "code",
      "source": [
        "insurance = pd.read_csv(\"https://raw.githubusercontent.com/stedy/Machine-Learning-with-R-datasets/master/insurance.csv\")"
      ],
      "metadata": {
        "id": "c6G7mUMC7fRJ"
      },
      "execution_count": 32,
      "outputs": []
    },
    {
      "cell_type": "code",
      "source": [
        "insurance.head()"
      ],
      "metadata": {
        "colab": {
          "base_uri": "https://localhost:8080/",
          "height": 206
        },
        "id": "mAZFWK9kAEEq",
        "outputId": "eae6049f-a2d8-4418-81f0-74bfdfb06837"
      },
      "execution_count": 3,
      "outputs": [
        {
          "output_type": "execute_result",
          "data": {
            "text/plain": [
              "   age     sex     bmi  children smoker     region      charges\n",
              "0   19  female  27.900         0    yes  southwest  16884.92400\n",
              "1   18    male  33.770         1     no  southeast   1725.55230\n",
              "2   28    male  33.000         3     no  southeast   4449.46200\n",
              "3   33    male  22.705         0     no  northwest  21984.47061\n",
              "4   32    male  28.880         0     no  northwest   3866.85520"
            ],
            "text/html": [
              "\n",
              "  <div id=\"df-0e3f1f49-74b0-40c8-be8c-9a586d097646\">\n",
              "    <div class=\"colab-df-container\">\n",
              "      <div>\n",
              "<style scoped>\n",
              "    .dataframe tbody tr th:only-of-type {\n",
              "        vertical-align: middle;\n",
              "    }\n",
              "\n",
              "    .dataframe tbody tr th {\n",
              "        vertical-align: top;\n",
              "    }\n",
              "\n",
              "    .dataframe thead th {\n",
              "        text-align: right;\n",
              "    }\n",
              "</style>\n",
              "<table border=\"1\" class=\"dataframe\">\n",
              "  <thead>\n",
              "    <tr style=\"text-align: right;\">\n",
              "      <th></th>\n",
              "      <th>age</th>\n",
              "      <th>sex</th>\n",
              "      <th>bmi</th>\n",
              "      <th>children</th>\n",
              "      <th>smoker</th>\n",
              "      <th>region</th>\n",
              "      <th>charges</th>\n",
              "    </tr>\n",
              "  </thead>\n",
              "  <tbody>\n",
              "    <tr>\n",
              "      <th>0</th>\n",
              "      <td>19</td>\n",
              "      <td>female</td>\n",
              "      <td>27.900</td>\n",
              "      <td>0</td>\n",
              "      <td>yes</td>\n",
              "      <td>southwest</td>\n",
              "      <td>16884.92400</td>\n",
              "    </tr>\n",
              "    <tr>\n",
              "      <th>1</th>\n",
              "      <td>18</td>\n",
              "      <td>male</td>\n",
              "      <td>33.770</td>\n",
              "      <td>1</td>\n",
              "      <td>no</td>\n",
              "      <td>southeast</td>\n",
              "      <td>1725.55230</td>\n",
              "    </tr>\n",
              "    <tr>\n",
              "      <th>2</th>\n",
              "      <td>28</td>\n",
              "      <td>male</td>\n",
              "      <td>33.000</td>\n",
              "      <td>3</td>\n",
              "      <td>no</td>\n",
              "      <td>southeast</td>\n",
              "      <td>4449.46200</td>\n",
              "    </tr>\n",
              "    <tr>\n",
              "      <th>3</th>\n",
              "      <td>33</td>\n",
              "      <td>male</td>\n",
              "      <td>22.705</td>\n",
              "      <td>0</td>\n",
              "      <td>no</td>\n",
              "      <td>northwest</td>\n",
              "      <td>21984.47061</td>\n",
              "    </tr>\n",
              "    <tr>\n",
              "      <th>4</th>\n",
              "      <td>32</td>\n",
              "      <td>male</td>\n",
              "      <td>28.880</td>\n",
              "      <td>0</td>\n",
              "      <td>no</td>\n",
              "      <td>northwest</td>\n",
              "      <td>3866.85520</td>\n",
              "    </tr>\n",
              "  </tbody>\n",
              "</table>\n",
              "</div>\n",
              "      <button class=\"colab-df-convert\" onclick=\"convertToInteractive('df-0e3f1f49-74b0-40c8-be8c-9a586d097646')\"\n",
              "              title=\"Convert this dataframe to an interactive table.\"\n",
              "              style=\"display:none;\">\n",
              "        \n",
              "  <svg xmlns=\"http://www.w3.org/2000/svg\" height=\"24px\"viewBox=\"0 0 24 24\"\n",
              "       width=\"24px\">\n",
              "    <path d=\"M0 0h24v24H0V0z\" fill=\"none\"/>\n",
              "    <path d=\"M18.56 5.44l.94 2.06.94-2.06 2.06-.94-2.06-.94-.94-2.06-.94 2.06-2.06.94zm-11 1L8.5 8.5l.94-2.06 2.06-.94-2.06-.94L8.5 2.5l-.94 2.06-2.06.94zm10 10l.94 2.06.94-2.06 2.06-.94-2.06-.94-.94-2.06-.94 2.06-2.06.94z\"/><path d=\"M17.41 7.96l-1.37-1.37c-.4-.4-.92-.59-1.43-.59-.52 0-1.04.2-1.43.59L10.3 9.45l-7.72 7.72c-.78.78-.78 2.05 0 2.83L4 21.41c.39.39.9.59 1.41.59.51 0 1.02-.2 1.41-.59l7.78-7.78 2.81-2.81c.8-.78.8-2.07 0-2.86zM5.41 20L4 18.59l7.72-7.72 1.47 1.35L5.41 20z\"/>\n",
              "  </svg>\n",
              "      </button>\n",
              "      \n",
              "  <style>\n",
              "    .colab-df-container {\n",
              "      display:flex;\n",
              "      flex-wrap:wrap;\n",
              "      gap: 12px;\n",
              "    }\n",
              "\n",
              "    .colab-df-convert {\n",
              "      background-color: #E8F0FE;\n",
              "      border: none;\n",
              "      border-radius: 50%;\n",
              "      cursor: pointer;\n",
              "      display: none;\n",
              "      fill: #1967D2;\n",
              "      height: 32px;\n",
              "      padding: 0 0 0 0;\n",
              "      width: 32px;\n",
              "    }\n",
              "\n",
              "    .colab-df-convert:hover {\n",
              "      background-color: #E2EBFA;\n",
              "      box-shadow: 0px 1px 2px rgba(60, 64, 67, 0.3), 0px 1px 3px 1px rgba(60, 64, 67, 0.15);\n",
              "      fill: #174EA6;\n",
              "    }\n",
              "\n",
              "    [theme=dark] .colab-df-convert {\n",
              "      background-color: #3B4455;\n",
              "      fill: #D2E3FC;\n",
              "    }\n",
              "\n",
              "    [theme=dark] .colab-df-convert:hover {\n",
              "      background-color: #434B5C;\n",
              "      box-shadow: 0px 1px 3px 1px rgba(0, 0, 0, 0.15);\n",
              "      filter: drop-shadow(0px 1px 2px rgba(0, 0, 0, 0.3));\n",
              "      fill: #FFFFFF;\n",
              "    }\n",
              "  </style>\n",
              "\n",
              "      <script>\n",
              "        const buttonEl =\n",
              "          document.querySelector('#df-0e3f1f49-74b0-40c8-be8c-9a586d097646 button.colab-df-convert');\n",
              "        buttonEl.style.display =\n",
              "          google.colab.kernel.accessAllowed ? 'block' : 'none';\n",
              "\n",
              "        async function convertToInteractive(key) {\n",
              "          const element = document.querySelector('#df-0e3f1f49-74b0-40c8-be8c-9a586d097646');\n",
              "          const dataTable =\n",
              "            await google.colab.kernel.invokeFunction('convertToInteractive',\n",
              "                                                     [key], {});\n",
              "          if (!dataTable) return;\n",
              "\n",
              "          const docLinkHtml = 'Like what you see? Visit the ' +\n",
              "            '<a target=\"_blank\" href=https://colab.research.google.com/notebooks/data_table.ipynb>data table notebook</a>'\n",
              "            + ' to learn more about interactive tables.';\n",
              "          element.innerHTML = '';\n",
              "          dataTable['output_type'] = 'display_data';\n",
              "          await google.colab.output.renderOutput(dataTable, element);\n",
              "          const docLink = document.createElement('div');\n",
              "          docLink.innerHTML = docLinkHtml;\n",
              "          element.appendChild(docLink);\n",
              "        }\n",
              "      </script>\n",
              "    </div>\n",
              "  </div>\n",
              "  "
            ]
          },
          "metadata": {},
          "execution_count": 3
        }
      ]
    },
    {
      "cell_type": "code",
      "source": [
        "insurance[\"sex\"]"
      ],
      "metadata": {
        "colab": {
          "base_uri": "https://localhost:8080/"
        },
        "id": "LnW3_5PHAHgt",
        "outputId": "0020f879-b85e-4ddc-bf40-b2430caf4a3e"
      },
      "execution_count": 4,
      "outputs": [
        {
          "output_type": "execute_result",
          "data": {
            "text/plain": [
              "0       female\n",
              "1         male\n",
              "2         male\n",
              "3         male\n",
              "4         male\n",
              "         ...  \n",
              "1333      male\n",
              "1334    female\n",
              "1335    female\n",
              "1336    female\n",
              "1337    female\n",
              "Name: sex, Length: 1338, dtype: object"
            ]
          },
          "metadata": {},
          "execution_count": 4
        }
      ]
    },
    {
      "cell_type": "code",
      "source": [
        "insurance[\"age\"]"
      ],
      "metadata": {
        "colab": {
          "base_uri": "https://localhost:8080/"
        },
        "id": "PmfE-NLLA8mD",
        "outputId": "30e8acfc-ccf0-44dd-d1a8-bba370f336f0"
      },
      "execution_count": 5,
      "outputs": [
        {
          "output_type": "execute_result",
          "data": {
            "text/plain": [
              "0       19\n",
              "1       18\n",
              "2       28\n",
              "3       33\n",
              "4       32\n",
              "        ..\n",
              "1333    50\n",
              "1334    18\n",
              "1335    18\n",
              "1336    21\n",
              "1337    61\n",
              "Name: age, Length: 1338, dtype: int64"
            ]
          },
          "metadata": {},
          "execution_count": 5
        }
      ]
    },
    {
      "cell_type": "code",
      "source": [
        "insurance.dtypes"
      ],
      "metadata": {
        "colab": {
          "base_uri": "https://localhost:8080/"
        },
        "id": "KaZZ7xVeA_zh",
        "outputId": "32442433-243f-44a4-a309-2405a0cf17dd"
      },
      "execution_count": 6,
      "outputs": [
        {
          "output_type": "execute_result",
          "data": {
            "text/plain": [
              "age           int64\n",
              "sex          object\n",
              "bmi         float64\n",
              "children      int64\n",
              "smoker       object\n",
              "region       object\n",
              "charges     float64\n",
              "dtype: object"
            ]
          },
          "metadata": {},
          "execution_count": 6
        }
      ]
    },
    {
      "cell_type": "code",
      "source": [
        "insurance_one_hot = pd.get_dummies(insurance)\n",
        "insurance_one_hot.head()"
      ],
      "metadata": {
        "colab": {
          "base_uri": "https://localhost:8080/",
          "height": 206
        },
        "id": "F8SUOliiCrXn",
        "outputId": "8841330e-2f32-40db-f006-0d0cfaa8819b"
      },
      "execution_count": 8,
      "outputs": [
        {
          "output_type": "execute_result",
          "data": {
            "text/plain": [
              "   age     bmi  children      charges  sex_female  sex_male  smoker_no  \\\n",
              "0   19  27.900         0  16884.92400           1         0          0   \n",
              "1   18  33.770         1   1725.55230           0         1          1   \n",
              "2   28  33.000         3   4449.46200           0         1          1   \n",
              "3   33  22.705         0  21984.47061           0         1          1   \n",
              "4   32  28.880         0   3866.85520           0         1          1   \n",
              "\n",
              "   smoker_yes  region_northeast  region_northwest  region_southeast  \\\n",
              "0           1                 0                 0                 0   \n",
              "1           0                 0                 0                 1   \n",
              "2           0                 0                 0                 1   \n",
              "3           0                 0                 1                 0   \n",
              "4           0                 0                 1                 0   \n",
              "\n",
              "   region_southwest  \n",
              "0                 1  \n",
              "1                 0  \n",
              "2                 0  \n",
              "3                 0  \n",
              "4                 0  "
            ],
            "text/html": [
              "\n",
              "  <div id=\"df-8173ff1b-c805-4c1e-a2a4-a8c1e0e682b9\">\n",
              "    <div class=\"colab-df-container\">\n",
              "      <div>\n",
              "<style scoped>\n",
              "    .dataframe tbody tr th:only-of-type {\n",
              "        vertical-align: middle;\n",
              "    }\n",
              "\n",
              "    .dataframe tbody tr th {\n",
              "        vertical-align: top;\n",
              "    }\n",
              "\n",
              "    .dataframe thead th {\n",
              "        text-align: right;\n",
              "    }\n",
              "</style>\n",
              "<table border=\"1\" class=\"dataframe\">\n",
              "  <thead>\n",
              "    <tr style=\"text-align: right;\">\n",
              "      <th></th>\n",
              "      <th>age</th>\n",
              "      <th>bmi</th>\n",
              "      <th>children</th>\n",
              "      <th>charges</th>\n",
              "      <th>sex_female</th>\n",
              "      <th>sex_male</th>\n",
              "      <th>smoker_no</th>\n",
              "      <th>smoker_yes</th>\n",
              "      <th>region_northeast</th>\n",
              "      <th>region_northwest</th>\n",
              "      <th>region_southeast</th>\n",
              "      <th>region_southwest</th>\n",
              "    </tr>\n",
              "  </thead>\n",
              "  <tbody>\n",
              "    <tr>\n",
              "      <th>0</th>\n",
              "      <td>19</td>\n",
              "      <td>27.900</td>\n",
              "      <td>0</td>\n",
              "      <td>16884.92400</td>\n",
              "      <td>1</td>\n",
              "      <td>0</td>\n",
              "      <td>0</td>\n",
              "      <td>1</td>\n",
              "      <td>0</td>\n",
              "      <td>0</td>\n",
              "      <td>0</td>\n",
              "      <td>1</td>\n",
              "    </tr>\n",
              "    <tr>\n",
              "      <th>1</th>\n",
              "      <td>18</td>\n",
              "      <td>33.770</td>\n",
              "      <td>1</td>\n",
              "      <td>1725.55230</td>\n",
              "      <td>0</td>\n",
              "      <td>1</td>\n",
              "      <td>1</td>\n",
              "      <td>0</td>\n",
              "      <td>0</td>\n",
              "      <td>0</td>\n",
              "      <td>1</td>\n",
              "      <td>0</td>\n",
              "    </tr>\n",
              "    <tr>\n",
              "      <th>2</th>\n",
              "      <td>28</td>\n",
              "      <td>33.000</td>\n",
              "      <td>3</td>\n",
              "      <td>4449.46200</td>\n",
              "      <td>0</td>\n",
              "      <td>1</td>\n",
              "      <td>1</td>\n",
              "      <td>0</td>\n",
              "      <td>0</td>\n",
              "      <td>0</td>\n",
              "      <td>1</td>\n",
              "      <td>0</td>\n",
              "    </tr>\n",
              "    <tr>\n",
              "      <th>3</th>\n",
              "      <td>33</td>\n",
              "      <td>22.705</td>\n",
              "      <td>0</td>\n",
              "      <td>21984.47061</td>\n",
              "      <td>0</td>\n",
              "      <td>1</td>\n",
              "      <td>1</td>\n",
              "      <td>0</td>\n",
              "      <td>0</td>\n",
              "      <td>1</td>\n",
              "      <td>0</td>\n",
              "      <td>0</td>\n",
              "    </tr>\n",
              "    <tr>\n",
              "      <th>4</th>\n",
              "      <td>32</td>\n",
              "      <td>28.880</td>\n",
              "      <td>0</td>\n",
              "      <td>3866.85520</td>\n",
              "      <td>0</td>\n",
              "      <td>1</td>\n",
              "      <td>1</td>\n",
              "      <td>0</td>\n",
              "      <td>0</td>\n",
              "      <td>1</td>\n",
              "      <td>0</td>\n",
              "      <td>0</td>\n",
              "    </tr>\n",
              "  </tbody>\n",
              "</table>\n",
              "</div>\n",
              "      <button class=\"colab-df-convert\" onclick=\"convertToInteractive('df-8173ff1b-c805-4c1e-a2a4-a8c1e0e682b9')\"\n",
              "              title=\"Convert this dataframe to an interactive table.\"\n",
              "              style=\"display:none;\">\n",
              "        \n",
              "  <svg xmlns=\"http://www.w3.org/2000/svg\" height=\"24px\"viewBox=\"0 0 24 24\"\n",
              "       width=\"24px\">\n",
              "    <path d=\"M0 0h24v24H0V0z\" fill=\"none\"/>\n",
              "    <path d=\"M18.56 5.44l.94 2.06.94-2.06 2.06-.94-2.06-.94-.94-2.06-.94 2.06-2.06.94zm-11 1L8.5 8.5l.94-2.06 2.06-.94-2.06-.94L8.5 2.5l-.94 2.06-2.06.94zm10 10l.94 2.06.94-2.06 2.06-.94-2.06-.94-.94-2.06-.94 2.06-2.06.94z\"/><path d=\"M17.41 7.96l-1.37-1.37c-.4-.4-.92-.59-1.43-.59-.52 0-1.04.2-1.43.59L10.3 9.45l-7.72 7.72c-.78.78-.78 2.05 0 2.83L4 21.41c.39.39.9.59 1.41.59.51 0 1.02-.2 1.41-.59l7.78-7.78 2.81-2.81c.8-.78.8-2.07 0-2.86zM5.41 20L4 18.59l7.72-7.72 1.47 1.35L5.41 20z\"/>\n",
              "  </svg>\n",
              "      </button>\n",
              "      \n",
              "  <style>\n",
              "    .colab-df-container {\n",
              "      display:flex;\n",
              "      flex-wrap:wrap;\n",
              "      gap: 12px;\n",
              "    }\n",
              "\n",
              "    .colab-df-convert {\n",
              "      background-color: #E8F0FE;\n",
              "      border: none;\n",
              "      border-radius: 50%;\n",
              "      cursor: pointer;\n",
              "      display: none;\n",
              "      fill: #1967D2;\n",
              "      height: 32px;\n",
              "      padding: 0 0 0 0;\n",
              "      width: 32px;\n",
              "    }\n",
              "\n",
              "    .colab-df-convert:hover {\n",
              "      background-color: #E2EBFA;\n",
              "      box-shadow: 0px 1px 2px rgba(60, 64, 67, 0.3), 0px 1px 3px 1px rgba(60, 64, 67, 0.15);\n",
              "      fill: #174EA6;\n",
              "    }\n",
              "\n",
              "    [theme=dark] .colab-df-convert {\n",
              "      background-color: #3B4455;\n",
              "      fill: #D2E3FC;\n",
              "    }\n",
              "\n",
              "    [theme=dark] .colab-df-convert:hover {\n",
              "      background-color: #434B5C;\n",
              "      box-shadow: 0px 1px 3px 1px rgba(0, 0, 0, 0.15);\n",
              "      filter: drop-shadow(0px 1px 2px rgba(0, 0, 0, 0.3));\n",
              "      fill: #FFFFFF;\n",
              "    }\n",
              "  </style>\n",
              "\n",
              "      <script>\n",
              "        const buttonEl =\n",
              "          document.querySelector('#df-8173ff1b-c805-4c1e-a2a4-a8c1e0e682b9 button.colab-df-convert');\n",
              "        buttonEl.style.display =\n",
              "          google.colab.kernel.accessAllowed ? 'block' : 'none';\n",
              "\n",
              "        async function convertToInteractive(key) {\n",
              "          const element = document.querySelector('#df-8173ff1b-c805-4c1e-a2a4-a8c1e0e682b9');\n",
              "          const dataTable =\n",
              "            await google.colab.kernel.invokeFunction('convertToInteractive',\n",
              "                                                     [key], {});\n",
              "          if (!dataTable) return;\n",
              "\n",
              "          const docLinkHtml = 'Like what you see? Visit the ' +\n",
              "            '<a target=\"_blank\" href=https://colab.research.google.com/notebooks/data_table.ipynb>data table notebook</a>'\n",
              "            + ' to learn more about interactive tables.';\n",
              "          element.innerHTML = '';\n",
              "          dataTable['output_type'] = 'display_data';\n",
              "          await google.colab.output.renderOutput(dataTable, element);\n",
              "          const docLink = document.createElement('div');\n",
              "          docLink.innerHTML = docLinkHtml;\n",
              "          element.appendChild(docLink);\n",
              "        }\n",
              "      </script>\n",
              "    </div>\n",
              "  </div>\n",
              "  "
            ]
          },
          "metadata": {},
          "execution_count": 8
        }
      ]
    },
    {
      "cell_type": "code",
      "source": [
        "# Create x an y values\n",
        "x = insurance_one_hot.drop(\"charges\",axis=1)\n",
        "y = insurance_one_hot[\"charges\"]\n"
      ],
      "metadata": {
        "id": "V8Zo36y5vxhe"
      },
      "execution_count": 10,
      "outputs": []
    },
    {
      "cell_type": "code",
      "source": [
        "x"
      ],
      "metadata": {
        "colab": {
          "base_uri": "https://localhost:8080/",
          "height": 423
        },
        "id": "lhlidfV2xvW0",
        "outputId": "04e39f64-0a68-4f54-8fd4-1b28dae95df1"
      },
      "execution_count": 11,
      "outputs": [
        {
          "output_type": "execute_result",
          "data": {
            "text/plain": [
              "      age     bmi  children  sex_female  sex_male  smoker_no  smoker_yes  \\\n",
              "0      19  27.900         0           1         0          0           1   \n",
              "1      18  33.770         1           0         1          1           0   \n",
              "2      28  33.000         3           0         1          1           0   \n",
              "3      33  22.705         0           0         1          1           0   \n",
              "4      32  28.880         0           0         1          1           0   \n",
              "...   ...     ...       ...         ...       ...        ...         ...   \n",
              "1333   50  30.970         3           0         1          1           0   \n",
              "1334   18  31.920         0           1         0          1           0   \n",
              "1335   18  36.850         0           1         0          1           0   \n",
              "1336   21  25.800         0           1         0          1           0   \n",
              "1337   61  29.070         0           1         0          0           1   \n",
              "\n",
              "      region_northeast  region_northwest  region_southeast  region_southwest  \n",
              "0                    0                 0                 0                 1  \n",
              "1                    0                 0                 1                 0  \n",
              "2                    0                 0                 1                 0  \n",
              "3                    0                 1                 0                 0  \n",
              "4                    0                 1                 0                 0  \n",
              "...                ...               ...               ...               ...  \n",
              "1333                 0                 1                 0                 0  \n",
              "1334                 1                 0                 0                 0  \n",
              "1335                 0                 0                 1                 0  \n",
              "1336                 0                 0                 0                 1  \n",
              "1337                 0                 1                 0                 0  \n",
              "\n",
              "[1338 rows x 11 columns]"
            ],
            "text/html": [
              "\n",
              "  <div id=\"df-38c056a1-9888-4827-8365-ea80a6de780f\">\n",
              "    <div class=\"colab-df-container\">\n",
              "      <div>\n",
              "<style scoped>\n",
              "    .dataframe tbody tr th:only-of-type {\n",
              "        vertical-align: middle;\n",
              "    }\n",
              "\n",
              "    .dataframe tbody tr th {\n",
              "        vertical-align: top;\n",
              "    }\n",
              "\n",
              "    .dataframe thead th {\n",
              "        text-align: right;\n",
              "    }\n",
              "</style>\n",
              "<table border=\"1\" class=\"dataframe\">\n",
              "  <thead>\n",
              "    <tr style=\"text-align: right;\">\n",
              "      <th></th>\n",
              "      <th>age</th>\n",
              "      <th>bmi</th>\n",
              "      <th>children</th>\n",
              "      <th>sex_female</th>\n",
              "      <th>sex_male</th>\n",
              "      <th>smoker_no</th>\n",
              "      <th>smoker_yes</th>\n",
              "      <th>region_northeast</th>\n",
              "      <th>region_northwest</th>\n",
              "      <th>region_southeast</th>\n",
              "      <th>region_southwest</th>\n",
              "    </tr>\n",
              "  </thead>\n",
              "  <tbody>\n",
              "    <tr>\n",
              "      <th>0</th>\n",
              "      <td>19</td>\n",
              "      <td>27.900</td>\n",
              "      <td>0</td>\n",
              "      <td>1</td>\n",
              "      <td>0</td>\n",
              "      <td>0</td>\n",
              "      <td>1</td>\n",
              "      <td>0</td>\n",
              "      <td>0</td>\n",
              "      <td>0</td>\n",
              "      <td>1</td>\n",
              "    </tr>\n",
              "    <tr>\n",
              "      <th>1</th>\n",
              "      <td>18</td>\n",
              "      <td>33.770</td>\n",
              "      <td>1</td>\n",
              "      <td>0</td>\n",
              "      <td>1</td>\n",
              "      <td>1</td>\n",
              "      <td>0</td>\n",
              "      <td>0</td>\n",
              "      <td>0</td>\n",
              "      <td>1</td>\n",
              "      <td>0</td>\n",
              "    </tr>\n",
              "    <tr>\n",
              "      <th>2</th>\n",
              "      <td>28</td>\n",
              "      <td>33.000</td>\n",
              "      <td>3</td>\n",
              "      <td>0</td>\n",
              "      <td>1</td>\n",
              "      <td>1</td>\n",
              "      <td>0</td>\n",
              "      <td>0</td>\n",
              "      <td>0</td>\n",
              "      <td>1</td>\n",
              "      <td>0</td>\n",
              "    </tr>\n",
              "    <tr>\n",
              "      <th>3</th>\n",
              "      <td>33</td>\n",
              "      <td>22.705</td>\n",
              "      <td>0</td>\n",
              "      <td>0</td>\n",
              "      <td>1</td>\n",
              "      <td>1</td>\n",
              "      <td>0</td>\n",
              "      <td>0</td>\n",
              "      <td>1</td>\n",
              "      <td>0</td>\n",
              "      <td>0</td>\n",
              "    </tr>\n",
              "    <tr>\n",
              "      <th>4</th>\n",
              "      <td>32</td>\n",
              "      <td>28.880</td>\n",
              "      <td>0</td>\n",
              "      <td>0</td>\n",
              "      <td>1</td>\n",
              "      <td>1</td>\n",
              "      <td>0</td>\n",
              "      <td>0</td>\n",
              "      <td>1</td>\n",
              "      <td>0</td>\n",
              "      <td>0</td>\n",
              "    </tr>\n",
              "    <tr>\n",
              "      <th>...</th>\n",
              "      <td>...</td>\n",
              "      <td>...</td>\n",
              "      <td>...</td>\n",
              "      <td>...</td>\n",
              "      <td>...</td>\n",
              "      <td>...</td>\n",
              "      <td>...</td>\n",
              "      <td>...</td>\n",
              "      <td>...</td>\n",
              "      <td>...</td>\n",
              "      <td>...</td>\n",
              "    </tr>\n",
              "    <tr>\n",
              "      <th>1333</th>\n",
              "      <td>50</td>\n",
              "      <td>30.970</td>\n",
              "      <td>3</td>\n",
              "      <td>0</td>\n",
              "      <td>1</td>\n",
              "      <td>1</td>\n",
              "      <td>0</td>\n",
              "      <td>0</td>\n",
              "      <td>1</td>\n",
              "      <td>0</td>\n",
              "      <td>0</td>\n",
              "    </tr>\n",
              "    <tr>\n",
              "      <th>1334</th>\n",
              "      <td>18</td>\n",
              "      <td>31.920</td>\n",
              "      <td>0</td>\n",
              "      <td>1</td>\n",
              "      <td>0</td>\n",
              "      <td>1</td>\n",
              "      <td>0</td>\n",
              "      <td>1</td>\n",
              "      <td>0</td>\n",
              "      <td>0</td>\n",
              "      <td>0</td>\n",
              "    </tr>\n",
              "    <tr>\n",
              "      <th>1335</th>\n",
              "      <td>18</td>\n",
              "      <td>36.850</td>\n",
              "      <td>0</td>\n",
              "      <td>1</td>\n",
              "      <td>0</td>\n",
              "      <td>1</td>\n",
              "      <td>0</td>\n",
              "      <td>0</td>\n",
              "      <td>0</td>\n",
              "      <td>1</td>\n",
              "      <td>0</td>\n",
              "    </tr>\n",
              "    <tr>\n",
              "      <th>1336</th>\n",
              "      <td>21</td>\n",
              "      <td>25.800</td>\n",
              "      <td>0</td>\n",
              "      <td>1</td>\n",
              "      <td>0</td>\n",
              "      <td>1</td>\n",
              "      <td>0</td>\n",
              "      <td>0</td>\n",
              "      <td>0</td>\n",
              "      <td>0</td>\n",
              "      <td>1</td>\n",
              "    </tr>\n",
              "    <tr>\n",
              "      <th>1337</th>\n",
              "      <td>61</td>\n",
              "      <td>29.070</td>\n",
              "      <td>0</td>\n",
              "      <td>1</td>\n",
              "      <td>0</td>\n",
              "      <td>0</td>\n",
              "      <td>1</td>\n",
              "      <td>0</td>\n",
              "      <td>1</td>\n",
              "      <td>0</td>\n",
              "      <td>0</td>\n",
              "    </tr>\n",
              "  </tbody>\n",
              "</table>\n",
              "<p>1338 rows × 11 columns</p>\n",
              "</div>\n",
              "      <button class=\"colab-df-convert\" onclick=\"convertToInteractive('df-38c056a1-9888-4827-8365-ea80a6de780f')\"\n",
              "              title=\"Convert this dataframe to an interactive table.\"\n",
              "              style=\"display:none;\">\n",
              "        \n",
              "  <svg xmlns=\"http://www.w3.org/2000/svg\" height=\"24px\"viewBox=\"0 0 24 24\"\n",
              "       width=\"24px\">\n",
              "    <path d=\"M0 0h24v24H0V0z\" fill=\"none\"/>\n",
              "    <path d=\"M18.56 5.44l.94 2.06.94-2.06 2.06-.94-2.06-.94-.94-2.06-.94 2.06-2.06.94zm-11 1L8.5 8.5l.94-2.06 2.06-.94-2.06-.94L8.5 2.5l-.94 2.06-2.06.94zm10 10l.94 2.06.94-2.06 2.06-.94-2.06-.94-.94-2.06-.94 2.06-2.06.94z\"/><path d=\"M17.41 7.96l-1.37-1.37c-.4-.4-.92-.59-1.43-.59-.52 0-1.04.2-1.43.59L10.3 9.45l-7.72 7.72c-.78.78-.78 2.05 0 2.83L4 21.41c.39.39.9.59 1.41.59.51 0 1.02-.2 1.41-.59l7.78-7.78 2.81-2.81c.8-.78.8-2.07 0-2.86zM5.41 20L4 18.59l7.72-7.72 1.47 1.35L5.41 20z\"/>\n",
              "  </svg>\n",
              "      </button>\n",
              "      \n",
              "  <style>\n",
              "    .colab-df-container {\n",
              "      display:flex;\n",
              "      flex-wrap:wrap;\n",
              "      gap: 12px;\n",
              "    }\n",
              "\n",
              "    .colab-df-convert {\n",
              "      background-color: #E8F0FE;\n",
              "      border: none;\n",
              "      border-radius: 50%;\n",
              "      cursor: pointer;\n",
              "      display: none;\n",
              "      fill: #1967D2;\n",
              "      height: 32px;\n",
              "      padding: 0 0 0 0;\n",
              "      width: 32px;\n",
              "    }\n",
              "\n",
              "    .colab-df-convert:hover {\n",
              "      background-color: #E2EBFA;\n",
              "      box-shadow: 0px 1px 2px rgba(60, 64, 67, 0.3), 0px 1px 3px 1px rgba(60, 64, 67, 0.15);\n",
              "      fill: #174EA6;\n",
              "    }\n",
              "\n",
              "    [theme=dark] .colab-df-convert {\n",
              "      background-color: #3B4455;\n",
              "      fill: #D2E3FC;\n",
              "    }\n",
              "\n",
              "    [theme=dark] .colab-df-convert:hover {\n",
              "      background-color: #434B5C;\n",
              "      box-shadow: 0px 1px 3px 1px rgba(0, 0, 0, 0.15);\n",
              "      filter: drop-shadow(0px 1px 2px rgba(0, 0, 0, 0.3));\n",
              "      fill: #FFFFFF;\n",
              "    }\n",
              "  </style>\n",
              "\n",
              "      <script>\n",
              "        const buttonEl =\n",
              "          document.querySelector('#df-38c056a1-9888-4827-8365-ea80a6de780f button.colab-df-convert');\n",
              "        buttonEl.style.display =\n",
              "          google.colab.kernel.accessAllowed ? 'block' : 'none';\n",
              "\n",
              "        async function convertToInteractive(key) {\n",
              "          const element = document.querySelector('#df-38c056a1-9888-4827-8365-ea80a6de780f');\n",
              "          const dataTable =\n",
              "            await google.colab.kernel.invokeFunction('convertToInteractive',\n",
              "                                                     [key], {});\n",
              "          if (!dataTable) return;\n",
              "\n",
              "          const docLinkHtml = 'Like what you see? Visit the ' +\n",
              "            '<a target=\"_blank\" href=https://colab.research.google.com/notebooks/data_table.ipynb>data table notebook</a>'\n",
              "            + ' to learn more about interactive tables.';\n",
              "          element.innerHTML = '';\n",
              "          dataTable['output_type'] = 'display_data';\n",
              "          await google.colab.output.renderOutput(dataTable, element);\n",
              "          const docLink = document.createElement('div');\n",
              "          docLink.innerHTML = docLinkHtml;\n",
              "          element.appendChild(docLink);\n",
              "        }\n",
              "      </script>\n",
              "    </div>\n",
              "  </div>\n",
              "  "
            ]
          },
          "metadata": {},
          "execution_count": 11
        }
      ]
    },
    {
      "cell_type": "code",
      "source": [
        "y"
      ],
      "metadata": {
        "colab": {
          "base_uri": "https://localhost:8080/"
        },
        "id": "K7bKzQYdx3Zs",
        "outputId": "e5cef044-345a-4e6d-a3a1-bcb174fb1fe4"
      },
      "execution_count": 12,
      "outputs": [
        {
          "output_type": "execute_result",
          "data": {
            "text/plain": [
              "0       16884.92400\n",
              "1        1725.55230\n",
              "2        4449.46200\n",
              "3       21984.47061\n",
              "4        3866.85520\n",
              "           ...     \n",
              "1333    10600.54830\n",
              "1334     2205.98080\n",
              "1335     1629.83350\n",
              "1336     2007.94500\n",
              "1337    29141.36030\n",
              "Name: charges, Length: 1338, dtype: float64"
            ]
          },
          "metadata": {},
          "execution_count": 12
        }
      ]
    },
    {
      "cell_type": "code",
      "source": [
        "from sklearn.model_selection import train_test_split\n",
        "x_train , x_test ,y_train , y_test = train_test_split(x,y, test_size=0.2, random_state=42)\n"
      ],
      "metadata": {
        "id": "W-E1EhB6x450"
      },
      "execution_count": 14,
      "outputs": []
    },
    {
      "cell_type": "code",
      "source": [
        "# Build a neural network (sort of like model)\n",
        "tf.random.set_seed(42)\n",
        "\n",
        "insurance_model = tf.keras.Sequential([\n",
        "    tf.keras.layers.Dense(100),\n",
        "    tf.keras.layers.Dense(100),\n",
        "    tf.keras.layers.Dense(100),\n",
        "    tf.keras.layers.Dense(1)\n",
        "])\n",
        "\n",
        "insurance_model.compile(loss=tf.keras.losses.mae,\n",
        "                        optimizer=tf.keras.optimizers.Adam(0.001),\n",
        "                        metrics=[\"mae\"])\n",
        "\n",
        "history = insurance_model.fit(x_train , y_train ,epochs=100)\n"
      ],
      "metadata": {
        "colab": {
          "base_uri": "https://localhost:8080/"
        },
        "id": "zmeXY1XHyoIC",
        "outputId": "30f0203b-9be3-4585-88f3-b1807c7bfa65"
      },
      "execution_count": 30,
      "outputs": [
        {
          "output_type": "stream",
          "name": "stdout",
          "text": [
            "Epoch 1/100\n",
            "34/34 [==============================] - 2s 2ms/step - loss: 12832.6943 - mae: 12832.6943\n",
            "Epoch 2/100\n",
            "34/34 [==============================] - 0s 3ms/step - loss: 8719.8799 - mae: 8719.8799\n",
            "Epoch 3/100\n",
            "34/34 [==============================] - 0s 3ms/step - loss: 7488.3169 - mae: 7488.3169\n",
            "Epoch 4/100\n",
            "34/34 [==============================] - 0s 3ms/step - loss: 7324.3032 - mae: 7324.3032\n",
            "Epoch 5/100\n",
            "34/34 [==============================] - 0s 3ms/step - loss: 7244.3330 - mae: 7244.3330\n",
            "Epoch 6/100\n",
            "34/34 [==============================] - 0s 3ms/step - loss: 7136.2109 - mae: 7136.2109\n",
            "Epoch 7/100\n",
            "34/34 [==============================] - 0s 2ms/step - loss: 7028.2266 - mae: 7028.2266\n",
            "Epoch 8/100\n",
            "34/34 [==============================] - 0s 3ms/step - loss: 6882.7480 - mae: 6882.7480\n",
            "Epoch 9/100\n",
            "34/34 [==============================] - 0s 3ms/step - loss: 6734.7979 - mae: 6734.7979\n",
            "Epoch 10/100\n",
            "34/34 [==============================] - 0s 3ms/step - loss: 6637.0073 - mae: 6637.0073\n",
            "Epoch 11/100\n",
            "34/34 [==============================] - 0s 3ms/step - loss: 6637.5874 - mae: 6637.5874\n",
            "Epoch 12/100\n",
            "34/34 [==============================] - 0s 3ms/step - loss: 6566.7295 - mae: 6566.7295\n",
            "Epoch 13/100\n",
            "34/34 [==============================] - 0s 3ms/step - loss: 6494.9209 - mae: 6494.9209\n",
            "Epoch 14/100\n",
            "34/34 [==============================] - 0s 3ms/step - loss: 6460.3496 - mae: 6460.3496\n",
            "Epoch 15/100\n",
            "34/34 [==============================] - 0s 3ms/step - loss: 6431.8047 - mae: 6431.8047\n",
            "Epoch 16/100\n",
            "34/34 [==============================] - 0s 3ms/step - loss: 6361.8398 - mae: 6361.8398\n",
            "Epoch 17/100\n",
            "34/34 [==============================] - 0s 3ms/step - loss: 6308.6592 - mae: 6308.6592\n",
            "Epoch 18/100\n",
            "34/34 [==============================] - 0s 3ms/step - loss: 6244.6777 - mae: 6244.6777\n",
            "Epoch 19/100\n",
            "34/34 [==============================] - 0s 3ms/step - loss: 6188.5957 - mae: 6188.5957\n",
            "Epoch 20/100\n",
            "34/34 [==============================] - 0s 3ms/step - loss: 6114.0391 - mae: 6114.0391\n",
            "Epoch 21/100\n",
            "34/34 [==============================] - 0s 3ms/step - loss: 6000.2227 - mae: 6000.2227\n",
            "Epoch 22/100\n",
            "34/34 [==============================] - 0s 3ms/step - loss: 5895.3423 - mae: 5895.3423\n",
            "Epoch 23/100\n",
            "34/34 [==============================] - 0s 3ms/step - loss: 5774.8799 - mae: 5774.8799\n",
            "Epoch 24/100\n",
            "34/34 [==============================] - 0s 3ms/step - loss: 5625.1016 - mae: 5625.1016\n",
            "Epoch 25/100\n",
            "34/34 [==============================] - 0s 3ms/step - loss: 5379.1240 - mae: 5379.1240\n",
            "Epoch 26/100\n",
            "34/34 [==============================] - 0s 3ms/step - loss: 5034.3906 - mae: 5034.3906\n",
            "Epoch 27/100\n",
            "34/34 [==============================] - 0s 3ms/step - loss: 4583.4585 - mae: 4583.4585\n",
            "Epoch 28/100\n",
            "34/34 [==============================] - 0s 3ms/step - loss: 4115.4238 - mae: 4115.4238\n",
            "Epoch 29/100\n",
            "34/34 [==============================] - 0s 3ms/step - loss: 3930.6743 - mae: 3930.6743\n",
            "Epoch 30/100\n",
            "34/34 [==============================] - 0s 3ms/step - loss: 3940.1279 - mae: 3940.1279\n",
            "Epoch 31/100\n",
            "34/34 [==============================] - 0s 3ms/step - loss: 3834.9297 - mae: 3834.9297\n",
            "Epoch 32/100\n",
            "34/34 [==============================] - 0s 3ms/step - loss: 3834.3777 - mae: 3834.3777\n",
            "Epoch 33/100\n",
            "34/34 [==============================] - 0s 6ms/step - loss: 3844.7407 - mae: 3844.7407\n",
            "Epoch 34/100\n",
            "34/34 [==============================] - 0s 9ms/step - loss: 3941.1467 - mae: 3941.1467\n",
            "Epoch 35/100\n",
            "34/34 [==============================] - 1s 15ms/step - loss: 3782.2551 - mae: 3782.2551\n",
            "Epoch 36/100\n",
            "34/34 [==============================] - 0s 14ms/step - loss: 3776.3860 - mae: 3776.3860\n",
            "Epoch 37/100\n",
            "34/34 [==============================] - 0s 11ms/step - loss: 3768.7429 - mae: 3768.7429\n",
            "Epoch 38/100\n",
            "34/34 [==============================] - 0s 5ms/step - loss: 3758.2017 - mae: 3758.2017\n",
            "Epoch 39/100\n",
            "34/34 [==============================] - 0s 5ms/step - loss: 3782.4146 - mae: 3782.4146\n",
            "Epoch 40/100\n",
            "34/34 [==============================] - 0s 4ms/step - loss: 3758.9641 - mae: 3758.9641\n",
            "Epoch 41/100\n",
            "34/34 [==============================] - 0s 4ms/step - loss: 3836.8167 - mae: 3836.8167\n",
            "Epoch 42/100\n",
            "34/34 [==============================] - 0s 4ms/step - loss: 3817.6221 - mae: 3817.6221\n",
            "Epoch 43/100\n",
            "34/34 [==============================] - 0s 4ms/step - loss: 3762.7637 - mae: 3762.7637\n",
            "Epoch 44/100\n",
            "34/34 [==============================] - 0s 4ms/step - loss: 3773.3689 - mae: 3773.3689\n",
            "Epoch 45/100\n",
            "34/34 [==============================] - 0s 4ms/step - loss: 3754.0178 - mae: 3754.0178\n",
            "Epoch 46/100\n",
            "34/34 [==============================] - 0s 4ms/step - loss: 3707.3926 - mae: 3707.3926\n",
            "Epoch 47/100\n",
            "34/34 [==============================] - 0s 4ms/step - loss: 3746.0103 - mae: 3746.0103\n",
            "Epoch 48/100\n",
            "34/34 [==============================] - 0s 4ms/step - loss: 3699.9817 - mae: 3699.9817\n",
            "Epoch 49/100\n",
            "34/34 [==============================] - 0s 4ms/step - loss: 3692.1165 - mae: 3692.1165\n",
            "Epoch 50/100\n",
            "34/34 [==============================] - 0s 4ms/step - loss: 3686.6880 - mae: 3686.6880\n",
            "Epoch 51/100\n",
            "34/34 [==============================] - 0s 3ms/step - loss: 3682.6929 - mae: 3682.6929\n",
            "Epoch 52/100\n",
            "34/34 [==============================] - 0s 3ms/step - loss: 3653.1333 - mae: 3653.1333\n",
            "Epoch 53/100\n",
            "34/34 [==============================] - 0s 3ms/step - loss: 3669.1743 - mae: 3669.1743\n",
            "Epoch 54/100\n",
            "34/34 [==============================] - 0s 3ms/step - loss: 3698.6506 - mae: 3698.6506\n",
            "Epoch 55/100\n",
            "34/34 [==============================] - 0s 2ms/step - loss: 3715.5146 - mae: 3715.5146\n",
            "Epoch 56/100\n",
            "34/34 [==============================] - 0s 2ms/step - loss: 3629.3555 - mae: 3629.3555\n",
            "Epoch 57/100\n",
            "34/34 [==============================] - 0s 2ms/step - loss: 3628.2876 - mae: 3628.2876\n",
            "Epoch 58/100\n",
            "34/34 [==============================] - 0s 3ms/step - loss: 3654.5137 - mae: 3654.5137\n",
            "Epoch 59/100\n",
            "34/34 [==============================] - 0s 3ms/step - loss: 3608.4976 - mae: 3608.4976\n",
            "Epoch 60/100\n",
            "34/34 [==============================] - 0s 2ms/step - loss: 3630.7668 - mae: 3630.7668\n",
            "Epoch 61/100\n",
            "34/34 [==============================] - 0s 3ms/step - loss: 3613.7854 - mae: 3613.7854\n",
            "Epoch 62/100\n",
            "34/34 [==============================] - 0s 3ms/step - loss: 3614.8115 - mae: 3614.8115\n",
            "Epoch 63/100\n",
            "34/34 [==============================] - 0s 3ms/step - loss: 3640.1602 - mae: 3640.1602\n",
            "Epoch 64/100\n",
            "34/34 [==============================] - 0s 3ms/step - loss: 3591.0103 - mae: 3591.0103\n",
            "Epoch 65/100\n",
            "34/34 [==============================] - 0s 3ms/step - loss: 3600.4651 - mae: 3600.4651\n",
            "Epoch 66/100\n",
            "34/34 [==============================] - 0s 3ms/step - loss: 3615.2815 - mae: 3615.2815\n",
            "Epoch 67/100\n",
            "34/34 [==============================] - 0s 3ms/step - loss: 3584.7432 - mae: 3584.7432\n",
            "Epoch 68/100\n",
            "34/34 [==============================] - 0s 2ms/step - loss: 3570.5005 - mae: 3570.5005\n",
            "Epoch 69/100\n",
            "34/34 [==============================] - 0s 2ms/step - loss: 3555.9673 - mae: 3555.9673\n",
            "Epoch 70/100\n",
            "34/34 [==============================] - 0s 2ms/step - loss: 3583.8230 - mae: 3583.8230\n",
            "Epoch 71/100\n",
            "34/34 [==============================] - 0s 3ms/step - loss: 3539.6748 - mae: 3539.6748\n",
            "Epoch 72/100\n",
            "34/34 [==============================] - 0s 3ms/step - loss: 3545.8257 - mae: 3545.8257\n",
            "Epoch 73/100\n",
            "34/34 [==============================] - 0s 3ms/step - loss: 3537.9048 - mae: 3537.9048\n",
            "Epoch 74/100\n",
            "34/34 [==============================] - 0s 2ms/step - loss: 3517.8491 - mae: 3517.8491\n",
            "Epoch 75/100\n",
            "34/34 [==============================] - 0s 3ms/step - loss: 3531.6763 - mae: 3531.6763\n",
            "Epoch 76/100\n",
            "34/34 [==============================] - 0s 2ms/step - loss: 3555.9897 - mae: 3555.9897\n",
            "Epoch 77/100\n",
            "34/34 [==============================] - 0s 2ms/step - loss: 3531.8389 - mae: 3531.8389\n",
            "Epoch 78/100\n",
            "34/34 [==============================] - 0s 2ms/step - loss: 3582.2454 - mae: 3582.2454\n",
            "Epoch 79/100\n",
            "34/34 [==============================] - 0s 3ms/step - loss: 3560.0652 - mae: 3560.0652\n",
            "Epoch 80/100\n",
            "34/34 [==============================] - 0s 4ms/step - loss: 3513.4387 - mae: 3513.4387\n",
            "Epoch 81/100\n",
            "34/34 [==============================] - 0s 2ms/step - loss: 3536.0222 - mae: 3536.0222\n",
            "Epoch 82/100\n",
            "34/34 [==============================] - 0s 2ms/step - loss: 3521.6641 - mae: 3521.6641\n",
            "Epoch 83/100\n",
            "34/34 [==============================] - 0s 2ms/step - loss: 3518.2625 - mae: 3518.2625\n",
            "Epoch 84/100\n",
            "34/34 [==============================] - 0s 3ms/step - loss: 3500.1506 - mae: 3500.1506\n",
            "Epoch 85/100\n",
            "34/34 [==============================] - 0s 3ms/step - loss: 3508.9536 - mae: 3508.9536\n",
            "Epoch 86/100\n",
            "34/34 [==============================] - 0s 2ms/step - loss: 3513.8015 - mae: 3513.8015\n",
            "Epoch 87/100\n",
            "34/34 [==============================] - 0s 2ms/step - loss: 3516.2375 - mae: 3516.2375\n",
            "Epoch 88/100\n",
            "34/34 [==============================] - 0s 3ms/step - loss: 3520.6360 - mae: 3520.6360\n",
            "Epoch 89/100\n",
            "34/34 [==============================] - 0s 3ms/step - loss: 3512.0381 - mae: 3512.0381\n",
            "Epoch 90/100\n",
            "34/34 [==============================] - 0s 3ms/step - loss: 3519.5881 - mae: 3519.5881\n",
            "Epoch 91/100\n",
            "34/34 [==============================] - 0s 3ms/step - loss: 3524.2393 - mae: 3524.2393\n",
            "Epoch 92/100\n",
            "34/34 [==============================] - 0s 3ms/step - loss: 3536.6333 - mae: 3536.6333\n",
            "Epoch 93/100\n",
            "34/34 [==============================] - 0s 3ms/step - loss: 3550.6150 - mae: 3550.6150\n",
            "Epoch 94/100\n",
            "34/34 [==============================] - 0s 3ms/step - loss: 3532.7068 - mae: 3532.7068\n",
            "Epoch 95/100\n",
            "34/34 [==============================] - 0s 3ms/step - loss: 3560.8652 - mae: 3560.8652\n",
            "Epoch 96/100\n",
            "34/34 [==============================] - 0s 3ms/step - loss: 3513.1753 - mae: 3513.1753\n",
            "Epoch 97/100\n",
            "34/34 [==============================] - 0s 3ms/step - loss: 3529.6338 - mae: 3529.6338\n",
            "Epoch 98/100\n",
            "34/34 [==============================] - 0s 3ms/step - loss: 3542.6711 - mae: 3542.6711\n",
            "Epoch 99/100\n",
            "34/34 [==============================] - 0s 3ms/step - loss: 3506.5166 - mae: 3506.5166\n",
            "Epoch 100/100\n",
            "34/34 [==============================] - 0s 3ms/step - loss: 3497.9297 - mae: 3497.9297\n"
          ]
        }
      ]
    },
    {
      "cell_type": "code",
      "source": [
        "insurance_model.evaluate(x_test , y_test)"
      ],
      "metadata": {
        "colab": {
          "base_uri": "https://localhost:8080/"
        },
        "id": "j4QjuUkt0NWg",
        "outputId": "96a865b0-c046-48a9-a25b-3130c613d051"
      },
      "execution_count": 24,
      "outputs": [
        {
          "output_type": "stream",
          "name": "stdout",
          "text": [
            "9/9 [==============================] - 0s 2ms/step - loss: 3171.3384 - mae: 3171.3384\n"
          ]
        },
        {
          "output_type": "execute_result",
          "data": {
            "text/plain": [
              "[3171.33837890625, 3171.33837890625]"
            ]
          },
          "metadata": {},
          "execution_count": 24
        }
      ]
    },
    {
      "cell_type": "code",
      "source": [
        "y_test.median() , y_test.mean()"
      ],
      "metadata": {
        "colab": {
          "base_uri": "https://localhost:8080/"
        },
        "id": "rRbwmkry1VU_",
        "outputId": "f8f8752b-59d5-4098-eb9d-836c5653d29a"
      },
      "execution_count": 21,
      "outputs": [
        {
          "output_type": "execute_result",
          "data": {
            "text/plain": [
              "(8487.8803, 12968.317062869404)"
            ]
          },
          "metadata": {},
          "execution_count": 21
        }
      ]
    },
    {
      "cell_type": "code",
      "source": [
        "# Since our model is performimg very bad we have to improve our model\n",
        "tf.random.set_seed(42)\n",
        "\n",
        "insurance_model1 = tf.keras.Sequential([\n",
        "    tf.keras.layers.Dense(100),\n",
        "    tf.keras.layers.Dense(100),\n",
        "    tf.keras.layers.Dense(100),\n",
        "    tf.keras.layers.Dense(1)\n",
        "])\n",
        "\n",
        "insurance_model1.compile(loss=tf.keras.losses.mae,\n",
        "                        optimizer=tf.keras.optimizers.Adam(0.001),\n",
        "                        metrics=[\"mae\"])\n",
        "\n",
        "insurance_model1.fit(x_train , y_train ,epochs=200)"
      ],
      "metadata": {
        "colab": {
          "base_uri": "https://localhost:8080/"
        },
        "id": "N-QA-SY90o99",
        "outputId": "3b7112bf-9377-4f31-f85e-ee8ae6779edd"
      },
      "execution_count": 27,
      "outputs": [
        {
          "output_type": "stream",
          "name": "stdout",
          "text": [
            "Epoch 1/200\n",
            "34/34 [==============================] - 1s 4ms/step - loss: 12796.0107 - mae: 12796.0107\n",
            "Epoch 2/200\n",
            "34/34 [==============================] - 0s 5ms/step - loss: 8562.3623 - mae: 8562.3623\n",
            "Epoch 3/200\n",
            "34/34 [==============================] - 0s 5ms/step - loss: 7372.8281 - mae: 7372.8281\n",
            "Epoch 4/200\n",
            "34/34 [==============================] - 0s 4ms/step - loss: 7183.7339 - mae: 7183.7339\n",
            "Epoch 5/200\n",
            "34/34 [==============================] - 0s 2ms/step - loss: 7079.7139 - mae: 7079.7139\n",
            "Epoch 6/200\n",
            "34/34 [==============================] - 0s 3ms/step - loss: 6948.2769 - mae: 6948.2769\n",
            "Epoch 7/200\n",
            "34/34 [==============================] - 0s 3ms/step - loss: 6807.6279 - mae: 6807.6279\n",
            "Epoch 8/200\n",
            "34/34 [==============================] - 0s 3ms/step - loss: 6678.5845 - mae: 6678.5845\n",
            "Epoch 9/200\n",
            "34/34 [==============================] - 0s 3ms/step - loss: 6626.8188 - mae: 6626.8188\n",
            "Epoch 10/200\n",
            "34/34 [==============================] - 0s 2ms/step - loss: 6587.2212 - mae: 6587.2212\n",
            "Epoch 11/200\n",
            "34/34 [==============================] - 0s 2ms/step - loss: 6592.9087 - mae: 6592.9087\n",
            "Epoch 12/200\n",
            "34/34 [==============================] - 0s 3ms/step - loss: 6541.5210 - mae: 6541.5210\n",
            "Epoch 13/200\n",
            "34/34 [==============================] - 0s 2ms/step - loss: 6470.2256 - mae: 6470.2256\n",
            "Epoch 14/200\n",
            "34/34 [==============================] - 0s 2ms/step - loss: 6438.2510 - mae: 6438.2510\n",
            "Epoch 15/200\n",
            "34/34 [==============================] - 0s 3ms/step - loss: 6403.1631 - mae: 6403.1631\n",
            "Epoch 16/200\n",
            "34/34 [==============================] - 0s 2ms/step - loss: 6332.1562 - mae: 6332.1562\n",
            "Epoch 17/200\n",
            "34/34 [==============================] - 0s 3ms/step - loss: 6276.3003 - mae: 6276.3003\n",
            "Epoch 18/200\n",
            "34/34 [==============================] - 0s 2ms/step - loss: 6204.8604 - mae: 6204.8604\n",
            "Epoch 19/200\n",
            "34/34 [==============================] - 0s 2ms/step - loss: 6123.6919 - mae: 6123.6919\n",
            "Epoch 20/200\n",
            "34/34 [==============================] - 0s 2ms/step - loss: 6037.8623 - mae: 6037.8623\n",
            "Epoch 21/200\n",
            "34/34 [==============================] - 0s 3ms/step - loss: 5890.4971 - mae: 5890.4971\n",
            "Epoch 22/200\n",
            "34/34 [==============================] - 0s 3ms/step - loss: 5741.1206 - mae: 5741.1206\n",
            "Epoch 23/200\n",
            "34/34 [==============================] - 0s 3ms/step - loss: 5548.9380 - mae: 5548.9380\n",
            "Epoch 24/200\n",
            "34/34 [==============================] - 0s 3ms/step - loss: 5244.8379 - mae: 5244.8379\n",
            "Epoch 25/200\n",
            "34/34 [==============================] - 0s 3ms/step - loss: 4788.7036 - mae: 4788.7036\n",
            "Epoch 26/200\n",
            "34/34 [==============================] - 0s 3ms/step - loss: 4319.0630 - mae: 4319.0630\n",
            "Epoch 27/200\n",
            "34/34 [==============================] - 0s 3ms/step - loss: 4076.6023 - mae: 4076.6023\n",
            "Epoch 28/200\n",
            "34/34 [==============================] - 0s 3ms/step - loss: 4015.0588 - mae: 4015.0588\n",
            "Epoch 29/200\n",
            "34/34 [==============================] - 0s 3ms/step - loss: 3863.4333 - mae: 3863.4333\n",
            "Epoch 30/200\n",
            "34/34 [==============================] - 0s 3ms/step - loss: 3846.7722 - mae: 3846.7722\n",
            "Epoch 31/200\n",
            "34/34 [==============================] - 0s 3ms/step - loss: 3824.5710 - mae: 3824.5710\n",
            "Epoch 32/200\n",
            "34/34 [==============================] - 0s 3ms/step - loss: 3836.0459 - mae: 3836.0459\n",
            "Epoch 33/200\n",
            "34/34 [==============================] - 0s 3ms/step - loss: 3827.8909 - mae: 3827.8909\n",
            "Epoch 34/200\n",
            "34/34 [==============================] - 0s 2ms/step - loss: 3883.5264 - mae: 3883.5264\n",
            "Epoch 35/200\n",
            "34/34 [==============================] - 0s 2ms/step - loss: 3776.6987 - mae: 3776.6987\n",
            "Epoch 36/200\n",
            "34/34 [==============================] - 0s 3ms/step - loss: 3772.7483 - mae: 3772.7483\n",
            "Epoch 37/200\n",
            "34/34 [==============================] - 0s 3ms/step - loss: 3762.0427 - mae: 3762.0427\n",
            "Epoch 38/200\n",
            "34/34 [==============================] - 0s 3ms/step - loss: 3752.6040 - mae: 3752.6040\n",
            "Epoch 39/200\n",
            "34/34 [==============================] - 0s 2ms/step - loss: 3763.2310 - mae: 3763.2310\n",
            "Epoch 40/200\n",
            "34/34 [==============================] - 0s 2ms/step - loss: 3738.9910 - mae: 3738.9910\n",
            "Epoch 41/200\n",
            "34/34 [==============================] - 0s 2ms/step - loss: 3794.1799 - mae: 3794.1799\n",
            "Epoch 42/200\n",
            "34/34 [==============================] - 0s 2ms/step - loss: 3796.5388 - mae: 3796.5388\n",
            "Epoch 43/200\n",
            "34/34 [==============================] - 0s 3ms/step - loss: 3730.1628 - mae: 3730.1628\n",
            "Epoch 44/200\n",
            "34/34 [==============================] - 0s 2ms/step - loss: 3778.2075 - mae: 3778.2075\n",
            "Epoch 45/200\n",
            "34/34 [==============================] - 0s 3ms/step - loss: 3749.1616 - mae: 3749.1616\n",
            "Epoch 46/200\n",
            "34/34 [==============================] - 0s 2ms/step - loss: 3740.3391 - mae: 3740.3391\n",
            "Epoch 47/200\n",
            "34/34 [==============================] - 0s 3ms/step - loss: 3741.6919 - mae: 3741.6919\n",
            "Epoch 48/200\n",
            "34/34 [==============================] - 0s 3ms/step - loss: 3711.0657 - mae: 3711.0657\n",
            "Epoch 49/200\n",
            "34/34 [==============================] - 0s 2ms/step - loss: 3686.0759 - mae: 3686.0759\n",
            "Epoch 50/200\n",
            "34/34 [==============================] - 0s 2ms/step - loss: 3686.5884 - mae: 3686.5884\n",
            "Epoch 51/200\n",
            "34/34 [==============================] - 0s 2ms/step - loss: 3679.4404 - mae: 3679.4404\n",
            "Epoch 52/200\n",
            "34/34 [==============================] - 0s 2ms/step - loss: 3648.1892 - mae: 3648.1892\n",
            "Epoch 53/200\n",
            "34/34 [==============================] - 0s 2ms/step - loss: 3665.9753 - mae: 3665.9753\n",
            "Epoch 54/200\n",
            "34/34 [==============================] - 0s 3ms/step - loss: 3675.9556 - mae: 3675.9556\n",
            "Epoch 55/200\n",
            "34/34 [==============================] - 0s 2ms/step - loss: 3682.9900 - mae: 3682.9900\n",
            "Epoch 56/200\n",
            "34/34 [==============================] - 0s 2ms/step - loss: 3614.9307 - mae: 3614.9307\n",
            "Epoch 57/200\n",
            "34/34 [==============================] - 0s 2ms/step - loss: 3632.6995 - mae: 3632.6995\n",
            "Epoch 58/200\n",
            "34/34 [==============================] - 0s 2ms/step - loss: 3653.3477 - mae: 3653.3477\n",
            "Epoch 59/200\n",
            "34/34 [==============================] - 0s 3ms/step - loss: 3603.8635 - mae: 3603.8635\n",
            "Epoch 60/200\n",
            "34/34 [==============================] - 0s 3ms/step - loss: 3611.9714 - mae: 3611.9714\n",
            "Epoch 61/200\n",
            "34/34 [==============================] - 0s 2ms/step - loss: 3608.1089 - mae: 3608.1089\n",
            "Epoch 62/200\n",
            "34/34 [==============================] - 0s 3ms/step - loss: 3618.0554 - mae: 3618.0554\n",
            "Epoch 63/200\n",
            "34/34 [==============================] - 0s 3ms/step - loss: 3595.8289 - mae: 3595.8289\n",
            "Epoch 64/200\n",
            "34/34 [==============================] - 0s 3ms/step - loss: 3566.7395 - mae: 3566.7395\n",
            "Epoch 65/200\n",
            "34/34 [==============================] - 0s 3ms/step - loss: 3577.5652 - mae: 3577.5652\n",
            "Epoch 66/200\n",
            "34/34 [==============================] - 0s 3ms/step - loss: 3598.8135 - mae: 3598.8135\n",
            "Epoch 67/200\n",
            "34/34 [==============================] - 0s 3ms/step - loss: 3555.0483 - mae: 3555.0483\n",
            "Epoch 68/200\n",
            "34/34 [==============================] - 0s 3ms/step - loss: 3561.0693 - mae: 3561.0693\n",
            "Epoch 69/200\n",
            "34/34 [==============================] - 0s 3ms/step - loss: 3534.5620 - mae: 3534.5620\n",
            "Epoch 70/200\n",
            "34/34 [==============================] - 0s 3ms/step - loss: 3541.9912 - mae: 3541.9912\n",
            "Epoch 71/200\n",
            "34/34 [==============================] - 0s 3ms/step - loss: 3549.9512 - mae: 3549.9512\n",
            "Epoch 72/200\n",
            "34/34 [==============================] - 0s 3ms/step - loss: 3539.6472 - mae: 3539.6472\n",
            "Epoch 73/200\n",
            "34/34 [==============================] - 0s 3ms/step - loss: 3534.9155 - mae: 3534.9155\n",
            "Epoch 74/200\n",
            "34/34 [==============================] - 0s 3ms/step - loss: 3509.1499 - mae: 3509.1499\n",
            "Epoch 75/200\n",
            "34/34 [==============================] - 0s 3ms/step - loss: 3533.7141 - mae: 3533.7141\n",
            "Epoch 76/200\n",
            "34/34 [==============================] - 0s 3ms/step - loss: 3542.1296 - mae: 3542.1296\n",
            "Epoch 77/200\n",
            "34/34 [==============================] - 0s 3ms/step - loss: 3557.5515 - mae: 3557.5515\n",
            "Epoch 78/200\n",
            "34/34 [==============================] - 0s 4ms/step - loss: 3520.8416 - mae: 3520.8416\n",
            "Epoch 79/200\n",
            "34/34 [==============================] - 0s 3ms/step - loss: 3520.8853 - mae: 3520.8853\n",
            "Epoch 80/200\n",
            "34/34 [==============================] - 0s 3ms/step - loss: 3510.6602 - mae: 3510.6602\n",
            "Epoch 81/200\n",
            "34/34 [==============================] - 0s 3ms/step - loss: 3527.3499 - mae: 3527.3499\n",
            "Epoch 82/200\n",
            "34/34 [==============================] - 0s 3ms/step - loss: 3523.4958 - mae: 3523.4958\n",
            "Epoch 83/200\n",
            "34/34 [==============================] - 0s 3ms/step - loss: 3506.8440 - mae: 3506.8440\n",
            "Epoch 84/200\n",
            "34/34 [==============================] - 0s 3ms/step - loss: 3493.3652 - mae: 3493.3652\n",
            "Epoch 85/200\n",
            "34/34 [==============================] - 0s 3ms/step - loss: 3500.5549 - mae: 3500.5549\n",
            "Epoch 86/200\n",
            "34/34 [==============================] - 0s 3ms/step - loss: 3502.0212 - mae: 3502.0212\n",
            "Epoch 87/200\n",
            "34/34 [==============================] - 0s 3ms/step - loss: 3514.3433 - mae: 3514.3433\n",
            "Epoch 88/200\n",
            "34/34 [==============================] - 0s 3ms/step - loss: 3526.6387 - mae: 3526.6387\n",
            "Epoch 89/200\n",
            "34/34 [==============================] - 0s 3ms/step - loss: 3519.5623 - mae: 3519.5623\n",
            "Epoch 90/200\n",
            "34/34 [==============================] - 0s 3ms/step - loss: 3520.9832 - mae: 3520.9832\n",
            "Epoch 91/200\n",
            "34/34 [==============================] - 0s 2ms/step - loss: 3522.1484 - mae: 3522.1484\n",
            "Epoch 92/200\n",
            "34/34 [==============================] - 0s 3ms/step - loss: 3527.8977 - mae: 3527.8977\n",
            "Epoch 93/200\n",
            "34/34 [==============================] - 0s 2ms/step - loss: 3566.4619 - mae: 3566.4619\n",
            "Epoch 94/200\n",
            "34/34 [==============================] - 0s 3ms/step - loss: 3534.0576 - mae: 3534.0576\n",
            "Epoch 95/200\n",
            "34/34 [==============================] - 0s 3ms/step - loss: 3550.3965 - mae: 3550.3965\n",
            "Epoch 96/200\n",
            "34/34 [==============================] - 0s 2ms/step - loss: 3493.8442 - mae: 3493.8442\n",
            "Epoch 97/200\n",
            "34/34 [==============================] - 0s 2ms/step - loss: 3540.6584 - mae: 3540.6584\n",
            "Epoch 98/200\n",
            "34/34 [==============================] - 0s 2ms/step - loss: 3523.9392 - mae: 3523.9392\n",
            "Epoch 99/200\n",
            "34/34 [==============================] - 0s 2ms/step - loss: 3502.9480 - mae: 3502.9480\n",
            "Epoch 100/200\n",
            "34/34 [==============================] - 0s 2ms/step - loss: 3505.4219 - mae: 3505.4219\n",
            "Epoch 101/200\n",
            "34/34 [==============================] - 0s 2ms/step - loss: 3512.6333 - mae: 3512.6333\n",
            "Epoch 102/200\n",
            "34/34 [==============================] - 0s 2ms/step - loss: 3498.1011 - mae: 3498.1011\n",
            "Epoch 103/200\n",
            "34/34 [==============================] - 0s 2ms/step - loss: 3500.3289 - mae: 3500.3289\n",
            "Epoch 104/200\n",
            "34/34 [==============================] - 0s 2ms/step - loss: 3501.8726 - mae: 3501.8726\n",
            "Epoch 105/200\n",
            "34/34 [==============================] - 0s 3ms/step - loss: 3534.9797 - mae: 3534.9797\n",
            "Epoch 106/200\n",
            "34/34 [==============================] - 0s 3ms/step - loss: 3511.9353 - mae: 3511.9353\n",
            "Epoch 107/200\n",
            "34/34 [==============================] - 0s 4ms/step - loss: 3543.5586 - mae: 3543.5586\n",
            "Epoch 108/200\n",
            "34/34 [==============================] - 0s 4ms/step - loss: 3504.8628 - mae: 3504.8628\n",
            "Epoch 109/200\n",
            "34/34 [==============================] - 0s 4ms/step - loss: 3614.1494 - mae: 3614.1494\n",
            "Epoch 110/200\n",
            "34/34 [==============================] - 0s 4ms/step - loss: 3505.8979 - mae: 3505.8979\n",
            "Epoch 111/200\n",
            "34/34 [==============================] - 0s 4ms/step - loss: 3508.7461 - mae: 3508.7461\n",
            "Epoch 112/200\n",
            "34/34 [==============================] - 0s 4ms/step - loss: 3508.1230 - mae: 3508.1230\n",
            "Epoch 113/200\n",
            "34/34 [==============================] - 0s 4ms/step - loss: 3543.2053 - mae: 3543.2053\n",
            "Epoch 114/200\n",
            "34/34 [==============================] - 0s 4ms/step - loss: 3564.6609 - mae: 3564.6609\n",
            "Epoch 115/200\n",
            "34/34 [==============================] - 0s 4ms/step - loss: 3564.8848 - mae: 3564.8848\n",
            "Epoch 116/200\n",
            "34/34 [==============================] - 0s 4ms/step - loss: 3501.9150 - mae: 3501.9150\n",
            "Epoch 117/200\n",
            "34/34 [==============================] - 0s 4ms/step - loss: 3503.9985 - mae: 3503.9985\n",
            "Epoch 118/200\n",
            "34/34 [==============================] - 0s 4ms/step - loss: 3511.9924 - mae: 3511.9924\n",
            "Epoch 119/200\n",
            "34/34 [==============================] - 0s 4ms/step - loss: 3550.6384 - mae: 3550.6384\n",
            "Epoch 120/200\n",
            "34/34 [==============================] - 0s 4ms/step - loss: 3504.8357 - mae: 3504.8357\n",
            "Epoch 121/200\n",
            "34/34 [==============================] - 0s 3ms/step - loss: 3498.6704 - mae: 3498.6704\n",
            "Epoch 122/200\n",
            "34/34 [==============================] - 0s 3ms/step - loss: 3504.6711 - mae: 3504.6711\n",
            "Epoch 123/200\n",
            "34/34 [==============================] - 0s 4ms/step - loss: 3525.8599 - mae: 3525.8599\n",
            "Epoch 124/200\n",
            "34/34 [==============================] - 0s 4ms/step - loss: 3518.8269 - mae: 3518.8269\n",
            "Epoch 125/200\n",
            "34/34 [==============================] - 0s 4ms/step - loss: 3551.2903 - mae: 3551.2903\n",
            "Epoch 126/200\n",
            "34/34 [==============================] - 0s 4ms/step - loss: 3499.8281 - mae: 3499.8281\n",
            "Epoch 127/200\n",
            "34/34 [==============================] - 0s 4ms/step - loss: 3521.4924 - mae: 3521.4924\n",
            "Epoch 128/200\n",
            "34/34 [==============================] - 0s 4ms/step - loss: 3590.7224 - mae: 3590.7224\n",
            "Epoch 129/200\n",
            "34/34 [==============================] - 0s 3ms/step - loss: 3499.0872 - mae: 3499.0872\n",
            "Epoch 130/200\n",
            "34/34 [==============================] - 0s 3ms/step - loss: 3608.7273 - mae: 3608.7273\n",
            "Epoch 131/200\n",
            "34/34 [==============================] - 0s 3ms/step - loss: 3516.2490 - mae: 3516.2490\n",
            "Epoch 132/200\n",
            "34/34 [==============================] - 0s 2ms/step - loss: 3517.4150 - mae: 3517.4150\n",
            "Epoch 133/200\n",
            "34/34 [==============================] - 0s 2ms/step - loss: 3546.3997 - mae: 3546.3997\n",
            "Epoch 134/200\n",
            "34/34 [==============================] - 0s 2ms/step - loss: 3537.0564 - mae: 3537.0564\n",
            "Epoch 135/200\n",
            "34/34 [==============================] - 0s 3ms/step - loss: 3546.7913 - mae: 3546.7913\n",
            "Epoch 136/200\n",
            "34/34 [==============================] - 0s 3ms/step - loss: 3497.1362 - mae: 3497.1362\n",
            "Epoch 137/200\n",
            "34/34 [==============================] - 0s 3ms/step - loss: 3524.0530 - mae: 3524.0530\n",
            "Epoch 138/200\n",
            "34/34 [==============================] - 0s 3ms/step - loss: 3509.1235 - mae: 3509.1235\n",
            "Epoch 139/200\n",
            "34/34 [==============================] - 0s 3ms/step - loss: 3520.8342 - mae: 3520.8342\n",
            "Epoch 140/200\n",
            "34/34 [==============================] - 0s 3ms/step - loss: 3512.4358 - mae: 3512.4358\n",
            "Epoch 141/200\n",
            "34/34 [==============================] - 0s 2ms/step - loss: 3517.5308 - mae: 3517.5308\n",
            "Epoch 142/200\n",
            "34/34 [==============================] - 0s 2ms/step - loss: 3502.6902 - mae: 3502.6902\n",
            "Epoch 143/200\n",
            "34/34 [==============================] - 0s 3ms/step - loss: 3499.3643 - mae: 3499.3643\n",
            "Epoch 144/200\n",
            "34/34 [==============================] - 0s 3ms/step - loss: 3501.2019 - mae: 3501.2019\n",
            "Epoch 145/200\n",
            "34/34 [==============================] - 0s 3ms/step - loss: 3507.6431 - mae: 3507.6431\n",
            "Epoch 146/200\n",
            "34/34 [==============================] - 0s 2ms/step - loss: 3497.4409 - mae: 3497.4409\n",
            "Epoch 147/200\n",
            "34/34 [==============================] - 0s 3ms/step - loss: 3553.5159 - mae: 3553.5159\n",
            "Epoch 148/200\n",
            "34/34 [==============================] - 0s 3ms/step - loss: 3526.4297 - mae: 3526.4297\n",
            "Epoch 149/200\n",
            "34/34 [==============================] - 0s 2ms/step - loss: 3505.9993 - mae: 3505.9993\n",
            "Epoch 150/200\n",
            "34/34 [==============================] - 0s 3ms/step - loss: 3495.7375 - mae: 3495.7375\n",
            "Epoch 151/200\n",
            "34/34 [==============================] - 0s 2ms/step - loss: 3526.3472 - mae: 3526.3472\n",
            "Epoch 152/200\n",
            "34/34 [==============================] - 0s 2ms/step - loss: 3546.6257 - mae: 3546.6257\n",
            "Epoch 153/200\n",
            "34/34 [==============================] - 0s 2ms/step - loss: 3540.4568 - mae: 3540.4568\n",
            "Epoch 154/200\n",
            "34/34 [==============================] - 0s 3ms/step - loss: 3536.5334 - mae: 3536.5334\n",
            "Epoch 155/200\n",
            "34/34 [==============================] - 0s 3ms/step - loss: 3503.0410 - mae: 3503.0410\n",
            "Epoch 156/200\n",
            "34/34 [==============================] - 0s 3ms/step - loss: 3495.0439 - mae: 3495.0439\n",
            "Epoch 157/200\n",
            "34/34 [==============================] - 0s 3ms/step - loss: 3551.6833 - mae: 3551.6833\n",
            "Epoch 158/200\n",
            "34/34 [==============================] - 0s 2ms/step - loss: 3507.4399 - mae: 3507.4399\n",
            "Epoch 159/200\n",
            "34/34 [==============================] - 0s 3ms/step - loss: 3489.1914 - mae: 3489.1914\n",
            "Epoch 160/200\n",
            "34/34 [==============================] - 0s 2ms/step - loss: 3552.9307 - mae: 3552.9307\n",
            "Epoch 161/200\n",
            "34/34 [==============================] - 0s 2ms/step - loss: 3541.2109 - mae: 3541.2109\n",
            "Epoch 162/200\n",
            "34/34 [==============================] - 0s 2ms/step - loss: 3487.3193 - mae: 3487.3193\n",
            "Epoch 163/200\n",
            "34/34 [==============================] - 0s 2ms/step - loss: 3516.1162 - mae: 3516.1162\n",
            "Epoch 164/200\n",
            "34/34 [==============================] - 0s 2ms/step - loss: 3519.8801 - mae: 3519.8801\n",
            "Epoch 165/200\n",
            "34/34 [==============================] - 0s 2ms/step - loss: 3611.0239 - mae: 3611.0239\n",
            "Epoch 166/200\n",
            "34/34 [==============================] - 0s 3ms/step - loss: 3494.0894 - mae: 3494.0894\n",
            "Epoch 167/200\n",
            "34/34 [==============================] - 0s 3ms/step - loss: 3539.4263 - mae: 3539.4263\n",
            "Epoch 168/200\n",
            "34/34 [==============================] - 0s 3ms/step - loss: 3517.8225 - mae: 3517.8225\n",
            "Epoch 169/200\n",
            "34/34 [==============================] - 0s 3ms/step - loss: 3490.7310 - mae: 3490.7310\n",
            "Epoch 170/200\n",
            "34/34 [==============================] - 0s 3ms/step - loss: 3515.9663 - mae: 3515.9663\n",
            "Epoch 171/200\n",
            "34/34 [==============================] - 0s 3ms/step - loss: 3558.1047 - mae: 3558.1047\n",
            "Epoch 172/200\n",
            "34/34 [==============================] - 0s 3ms/step - loss: 3510.2454 - mae: 3510.2454\n",
            "Epoch 173/200\n",
            "34/34 [==============================] - 0s 2ms/step - loss: 3514.5210 - mae: 3514.5210\n",
            "Epoch 174/200\n",
            "34/34 [==============================] - 0s 2ms/step - loss: 3498.9211 - mae: 3498.9211\n",
            "Epoch 175/200\n",
            "34/34 [==============================] - 0s 3ms/step - loss: 3496.2986 - mae: 3496.2986\n",
            "Epoch 176/200\n",
            "34/34 [==============================] - 0s 2ms/step - loss: 3495.3855 - mae: 3495.3855\n",
            "Epoch 177/200\n",
            "34/34 [==============================] - 0s 2ms/step - loss: 3515.5913 - mae: 3515.5913\n",
            "Epoch 178/200\n",
            "34/34 [==============================] - 0s 3ms/step - loss: 3509.2917 - mae: 3509.2917\n",
            "Epoch 179/200\n",
            "34/34 [==============================] - 0s 3ms/step - loss: 3515.4878 - mae: 3515.4878\n",
            "Epoch 180/200\n",
            "34/34 [==============================] - 0s 3ms/step - loss: 3505.6196 - mae: 3505.6196\n",
            "Epoch 181/200\n",
            "34/34 [==============================] - 0s 3ms/step - loss: 3501.5962 - mae: 3501.5962\n",
            "Epoch 182/200\n",
            "34/34 [==============================] - 0s 3ms/step - loss: 3506.4629 - mae: 3506.4629\n",
            "Epoch 183/200\n",
            "34/34 [==============================] - 0s 3ms/step - loss: 3526.6042 - mae: 3526.6042\n",
            "Epoch 184/200\n",
            "34/34 [==============================] - 0s 3ms/step - loss: 3659.6428 - mae: 3659.6428\n",
            "Epoch 185/200\n",
            "34/34 [==============================] - 0s 3ms/step - loss: 3525.3523 - mae: 3525.3523\n",
            "Epoch 186/200\n",
            "34/34 [==============================] - 0s 3ms/step - loss: 3585.5300 - mae: 3585.5300\n",
            "Epoch 187/200\n",
            "34/34 [==============================] - 0s 3ms/step - loss: 3604.1697 - mae: 3604.1697\n",
            "Epoch 188/200\n",
            "34/34 [==============================] - 0s 3ms/step - loss: 3530.8901 - mae: 3530.8901\n",
            "Epoch 189/200\n",
            "34/34 [==============================] - 0s 2ms/step - loss: 3503.3179 - mae: 3503.3179\n",
            "Epoch 190/200\n",
            "34/34 [==============================] - 0s 3ms/step - loss: 3493.3154 - mae: 3493.3154\n",
            "Epoch 191/200\n",
            "34/34 [==============================] - 0s 2ms/step - loss: 3483.3784 - mae: 3483.3784\n",
            "Epoch 192/200\n",
            "34/34 [==============================] - 0s 3ms/step - loss: 3513.2612 - mae: 3513.2612\n",
            "Epoch 193/200\n",
            "34/34 [==============================] - 0s 3ms/step - loss: 3539.6174 - mae: 3539.6174\n",
            "Epoch 194/200\n",
            "34/34 [==============================] - 0s 3ms/step - loss: 3502.9558 - mae: 3502.9558\n",
            "Epoch 195/200\n",
            "34/34 [==============================] - 0s 2ms/step - loss: 3512.0388 - mae: 3512.0388\n",
            "Epoch 196/200\n",
            "34/34 [==============================] - 0s 3ms/step - loss: 3528.7678 - mae: 3528.7678\n",
            "Epoch 197/200\n",
            "34/34 [==============================] - 0s 2ms/step - loss: 3503.7920 - mae: 3503.7920\n",
            "Epoch 198/200\n",
            "34/34 [==============================] - 0s 2ms/step - loss: 3503.0662 - mae: 3503.0662\n",
            "Epoch 199/200\n",
            "34/34 [==============================] - 0s 2ms/step - loss: 3486.6118 - mae: 3486.6118\n",
            "Epoch 200/200\n",
            "34/34 [==============================] - 0s 2ms/step - loss: 3500.2549 - mae: 3500.2549\n"
          ]
        },
        {
          "output_type": "execute_result",
          "data": {
            "text/plain": [
              "<keras.callbacks.History at 0x7fbb0266a350>"
            ]
          },
          "metadata": {},
          "execution_count": 27
        }
      ]
    },
    {
      "cell_type": "code",
      "source": [
        "pd.DataFrame(history.history).plot()\n",
        "plt.ylabel(\"loss\")\n",
        "plt.xlabel(\"epochs\")"
      ],
      "metadata": {
        "colab": {
          "base_uri": "https://localhost:8080/",
          "height": 466
        },
        "id": "8GvkdDLB2pxZ",
        "outputId": "3bd72780-54b1-4da8-8f8c-0c070d5b7b58"
      },
      "execution_count": 31,
      "outputs": [
        {
          "output_type": "execute_result",
          "data": {
            "text/plain": [
              "Text(0.5, 0, 'epochs')"
            ]
          },
          "metadata": {},
          "execution_count": 31
        },
        {
          "output_type": "display_data",
          "data": {
            "text/plain": [
              "<Figure size 640x480 with 1 Axes>"
            ],
            "image/png": "[encoded data removed]"
          },
          "metadata": {}
        }
      ]
    },
    {
      "cell_type": "code",
      "source": [
        "## Preprocessing data (normalization and standardization)\n",
        "import numpy as np\n",
        "\n",
        "np.random.seed(42)\n",
        "from sklearn.compose import make_column_transformer\n",
        "from sklearn.preprocessing import MinMaxScaler , OneHotEncoder\n",
        "\n",
        "ct = make_column_transformer(\n",
        "    (MinMaxScaler(),[\"age\",\"bmi\",\"children\"]), #turn all values in these column between 0 and 1\n",
        "    (OneHotEncoder(handle_unknown=\"ignore\"),[\"sex\",\"smoker\",\"region\"])\n",
        ")\n",
        "\n",
        "x = insurance.drop(\"charges\",axis=1)\n",
        "y = insurance[\"charges\"]\n",
        "\n",
        "x_train , x_test , y_train , y_test = train_test_split(x , y ,test_size=0.2)\n",
        "\n",
        "ct.fit(x_train)\n",
        "\n",
        "x_train_normal = ct.transform(x_train)\n",
        "x_test_normal = ct.transform(x_test)\n",
        "\n",
        "\n"
      ],
      "metadata": {
        "id": "P2uNxr-E3QMJ"
      },
      "execution_count": 36,
      "outputs": []
    },
    {
      "cell_type": "code",
      "source": [
        "x_train.shape , x_train_normal.shape # normalized data"
      ],
      "metadata": {
        "colab": {
          "base_uri": "https://localhost:8080/"
        },
        "id": "T2m2y__4AjuI",
        "outputId": "06218cef-12bb-4a92-b3b4-6ab06b6b23d6"
      },
      "execution_count": 39,
      "outputs": [
        {
          "output_type": "execute_result",
          "data": {
            "text/plain": [
              "((1070, 6), (1070, 11))"
            ]
          },
          "metadata": {},
          "execution_count": 39
        }
      ]
    },
    {
      "cell_type": "code",
      "source": [
        "tf.random.set_seed(42)\n",
        "\n",
        "model_i = tf.keras.Sequential([\n",
        "    tf.keras.layers.Dense(100),\n",
        "    tf.keras.layers.Dense(10),\n",
        "    tf.keras.layers.Dense(1)\n",
        "])\n",
        "\n",
        "model_i.compile(loss=tf.keras.losses.mae,\n",
        "                optimizer=tf.keras.optimizers.Adam(),\n",
        "                metrics=[\"mae\"]\n",
        "                )\n",
        "\n",
        "model_i.fit(x_train_normal, y_train , epochs = 200 , verbose =1)\n"
      ],
      "metadata": {
        "colab": {
          "base_uri": "https://localhost:8080/"
        },
        "id": "lLv6Do3UA510",
        "outputId": "0bf1e66b-2e97-4001-a571-0d0c8821c342"
      },
      "execution_count": 43,
      "outputs": [
        {
          "output_type": "stream",
          "name": "stdout",
          "text": [
            "Epoch 1/200\n",
            "34/34 [==============================] - 2s 4ms/step - loss: 13343.9131 - mae: 13343.9131\n",
            "Epoch 2/200\n",
            "34/34 [==============================] - 0s 3ms/step - loss: 13336.1631 - mae: 13336.1631\n",
            "Epoch 3/200\n",
            "34/34 [==============================] - 0s 3ms/step - loss: 13316.5771 - mae: 13316.5771\n",
            "Epoch 4/200\n",
            "34/34 [==============================] - 0s 3ms/step - loss: 13274.8955 - mae: 13274.8955\n",
            "Epoch 5/200\n",
            "34/34 [==============================] - 0s 4ms/step - loss: 13200.0322 - mae: 13200.0322\n",
            "Epoch 6/200\n",
            "34/34 [==============================] - 0s 3ms/step - loss: 13080.9258 - mae: 13080.9258\n",
            "Epoch 7/200\n",
            "34/34 [==============================] - 0s 3ms/step - loss: 12907.1846 - mae: 12907.1846\n",
            "Epoch 8/200\n",
            "34/34 [==============================] - 0s 3ms/step - loss: 12668.6006 - mae: 12668.6006\n",
            "Epoch 9/200\n",
            "34/34 [==============================] - 0s 4ms/step - loss: 12354.8994 - mae: 12354.8994\n",
            "Epoch 10/200\n",
            "34/34 [==============================] - 0s 4ms/step - loss: 11960.4600 - mae: 11960.4600\n",
            "Epoch 11/200\n",
            "34/34 [==============================] - 0s 3ms/step - loss: 11492.5605 - mae: 11492.5605\n",
            "Epoch 12/200\n",
            "34/34 [==============================] - 0s 4ms/step - loss: 10985.8682 - mae: 10985.8682\n",
            "Epoch 13/200\n",
            "34/34 [==============================] - 0s 3ms/step - loss: 10483.4316 - mae: 10483.4316\n",
            "Epoch 14/200\n",
            "34/34 [==============================] - 0s 4ms/step - loss: 9983.6592 - mae: 9983.6592\n",
            "Epoch 15/200\n",
            "34/34 [==============================] - 0s 3ms/step - loss: 9510.7695 - mae: 9510.7695\n",
            "Epoch 16/200\n",
            "34/34 [==============================] - 0s 4ms/step - loss: 9088.6357 - mae: 9088.6357\n",
            "Epoch 17/200\n",
            "34/34 [==============================] - 0s 3ms/step - loss: 8736.6670 - mae: 8736.6670\n",
            "Epoch 18/200\n",
            "34/34 [==============================] - 0s 3ms/step - loss: 8452.0537 - mae: 8452.0537\n",
            "Epoch 19/200\n",
            "34/34 [==============================] - 0s 4ms/step - loss: 8231.6963 - mae: 8231.6963\n",
            "Epoch 20/200\n",
            "34/34 [==============================] - 0s 3ms/step - loss: 8082.2012 - mae: 8082.2012\n",
            "Epoch 21/200\n",
            "34/34 [==============================] - 0s 4ms/step - loss: 7970.3027 - mae: 7970.3027\n",
            "Epoch 22/200\n",
            "34/34 [==============================] - 0s 4ms/step - loss: 7894.5410 - mae: 7894.5410\n",
            "Epoch 23/200\n",
            "34/34 [==============================] - 0s 2ms/step - loss: 7835.1401 - mae: 7835.1401\n",
            "Epoch 24/200\n",
            "34/34 [==============================] - 0s 2ms/step - loss: 7782.4395 - mae: 7782.4395\n",
            "Epoch 25/200\n",
            "34/34 [==============================] - 0s 2ms/step - loss: 7743.5894 - mae: 7743.5894\n",
            "Epoch 26/200\n",
            "34/34 [==============================] - 0s 2ms/step - loss: 7692.3096 - mae: 7692.3096\n",
            "Epoch 27/200\n",
            "34/34 [==============================] - 0s 2ms/step - loss: 7650.3423 - mae: 7650.3423\n",
            "Epoch 28/200\n",
            "34/34 [==============================] - 0s 2ms/step - loss: 7607.9707 - mae: 7607.9707\n",
            "Epoch 29/200\n",
            "34/34 [==============================] - 0s 2ms/step - loss: 7565.6904 - mae: 7565.6904\n",
            "Epoch 30/200\n",
            "34/34 [==============================] - 0s 2ms/step - loss: 7522.3057 - mae: 7522.3057\n",
            "Epoch 31/200\n",
            "34/34 [==============================] - 0s 2ms/step - loss: 7478.6104 - mae: 7478.6104\n",
            "Epoch 32/200\n",
            "34/34 [==============================] - 0s 2ms/step - loss: 7434.6904 - mae: 7434.6904\n",
            "Epoch 33/200\n",
            "34/34 [==============================] - 0s 2ms/step - loss: 7390.4941 - mae: 7390.4941\n",
            "Epoch 34/200\n",
            "34/34 [==============================] - 0s 2ms/step - loss: 7342.3892 - mae: 7342.3892\n",
            "Epoch 35/200\n",
            "34/34 [==============================] - 0s 2ms/step - loss: 7295.8032 - mae: 7295.8032\n",
            "Epoch 36/200\n",
            "34/34 [==============================] - 0s 2ms/step - loss: 7245.8584 - mae: 7245.8584\n",
            "Epoch 37/200\n",
            "34/34 [==============================] - 0s 2ms/step - loss: 7195.7139 - mae: 7195.7139\n",
            "Epoch 38/200\n",
            "34/34 [==============================] - 0s 2ms/step - loss: 7144.9980 - mae: 7144.9980\n",
            "Epoch 39/200\n",
            "34/34 [==============================] - 0s 2ms/step - loss: 7090.5044 - mae: 7090.5044\n",
            "Epoch 40/200\n",
            "34/34 [==============================] - 0s 2ms/step - loss: 7035.4736 - mae: 7035.4736\n",
            "Epoch 41/200\n",
            "34/34 [==============================] - 0s 3ms/step - loss: 6979.3853 - mae: 6979.3853\n",
            "Epoch 42/200\n",
            "34/34 [==============================] - 0s 3ms/step - loss: 6920.7178 - mae: 6920.7178\n",
            "Epoch 43/200\n",
            "34/34 [==============================] - 0s 3ms/step - loss: 6858.5366 - mae: 6858.5366\n",
            "Epoch 44/200\n",
            "34/34 [==============================] - 0s 3ms/step - loss: 6792.6313 - mae: 6792.6313\n",
            "Epoch 45/200\n",
            "34/34 [==============================] - 0s 3ms/step - loss: 6725.8071 - mae: 6725.8071\n",
            "Epoch 46/200\n",
            "34/34 [==============================] - 0s 3ms/step - loss: 6657.2236 - mae: 6657.2236\n",
            "Epoch 47/200\n",
            "34/34 [==============================] - 0s 3ms/step - loss: 6586.3936 - mae: 6586.3936\n",
            "Epoch 48/200\n",
            "34/34 [==============================] - 0s 2ms/step - loss: 6508.2251 - mae: 6508.2251\n",
            "Epoch 49/200\n",
            "34/34 [==============================] - 0s 3ms/step - loss: 6429.6357 - mae: 6429.6357\n",
            "Epoch 50/200\n",
            "34/34 [==============================] - 0s 3ms/step - loss: 6344.7188 - mae: 6344.7188\n",
            "Epoch 51/200\n",
            "34/34 [==============================] - 0s 3ms/step - loss: 6260.9087 - mae: 6260.9087\n",
            "Epoch 52/200\n",
            "34/34 [==============================] - 0s 3ms/step - loss: 6167.7666 - mae: 6167.7666\n",
            "Epoch 53/200\n",
            "34/34 [==============================] - 0s 3ms/step - loss: 6072.4697 - mae: 6072.4697\n",
            "Epoch 54/200\n",
            "34/34 [==============================] - 0s 3ms/step - loss: 5974.7217 - mae: 5974.7217\n",
            "Epoch 55/200\n",
            "34/34 [==============================] - 0s 3ms/step - loss: 5868.0439 - mae: 5868.0439\n",
            "Epoch 56/200\n",
            "34/34 [==============================] - 0s 3ms/step - loss: 5760.1611 - mae: 5760.1611\n",
            "Epoch 57/200\n",
            "34/34 [==============================] - 0s 3ms/step - loss: 5644.9185 - mae: 5644.9185\n",
            "Epoch 58/200\n",
            "34/34 [==============================] - 0s 3ms/step - loss: 5527.6577 - mae: 5527.6577\n",
            "Epoch 59/200\n",
            "34/34 [==============================] - 0s 3ms/step - loss: 5410.1973 - mae: 5410.1973\n",
            "Epoch 60/200\n",
            "34/34 [==============================] - 0s 2ms/step - loss: 5287.5703 - mae: 5287.5703\n",
            "Epoch 61/200\n",
            "34/34 [==============================] - 0s 3ms/step - loss: 5160.6802 - mae: 5160.6802\n",
            "Epoch 62/200\n",
            "34/34 [==============================] - 0s 3ms/step - loss: 5031.0908 - mae: 5031.0908\n",
            "Epoch 63/200\n",
            "34/34 [==============================] - 0s 3ms/step - loss: 4902.5576 - mae: 4902.5576\n",
            "Epoch 64/200\n",
            "34/34 [==============================] - 0s 2ms/step - loss: 4770.8989 - mae: 4770.8989\n",
            "Epoch 65/200\n",
            "34/34 [==============================] - 0s 2ms/step - loss: 4644.4263 - mae: 4644.4263\n",
            "Epoch 66/200\n",
            "34/34 [==============================] - 0s 2ms/step - loss: 4519.0977 - mae: 4519.0977\n",
            "Epoch 67/200\n",
            "34/34 [==============================] - 0s 3ms/step - loss: 4409.2222 - mae: 4409.2222\n",
            "Epoch 68/200\n",
            "34/34 [==============================] - 0s 3ms/step - loss: 4301.2207 - mae: 4301.2207\n",
            "Epoch 69/200\n",
            "34/34 [==============================] - 0s 3ms/step - loss: 4199.1577 - mae: 4199.1577\n",
            "Epoch 70/200\n",
            "34/34 [==============================] - 0s 2ms/step - loss: 4105.2534 - mae: 4105.2534\n",
            "Epoch 71/200\n",
            "34/34 [==============================] - 0s 3ms/step - loss: 4018.1973 - mae: 4018.1973\n",
            "Epoch 72/200\n",
            "34/34 [==============================] - 0s 3ms/step - loss: 3942.5071 - mae: 3942.5071\n",
            "Epoch 73/200\n",
            "34/34 [==============================] - 0s 3ms/step - loss: 3878.1113 - mae: 3878.1113\n",
            "Epoch 74/200\n",
            "34/34 [==============================] - 0s 3ms/step - loss: 3824.8486 - mae: 3824.8486\n",
            "Epoch 75/200\n",
            "34/34 [==============================] - 0s 2ms/step - loss: 3781.8499 - mae: 3781.8499\n",
            "Epoch 76/200\n",
            "34/34 [==============================] - 0s 2ms/step - loss: 3749.5144 - mae: 3749.5144\n",
            "Epoch 77/200\n",
            "34/34 [==============================] - 0s 2ms/step - loss: 3724.1440 - mae: 3724.1440\n",
            "Epoch 78/200\n",
            "34/34 [==============================] - 0s 2ms/step - loss: 3706.6846 - mae: 3706.6846\n",
            "Epoch 79/200\n",
            "34/34 [==============================] - 0s 2ms/step - loss: 3693.3679 - mae: 3693.3679\n",
            "Epoch 80/200\n",
            "34/34 [==============================] - 0s 2ms/step - loss: 3684.2336 - mae: 3684.2336\n",
            "Epoch 81/200\n",
            "34/34 [==============================] - 0s 2ms/step - loss: 3677.4949 - mae: 3677.4949\n",
            "Epoch 82/200\n",
            "34/34 [==============================] - 0s 2ms/step - loss: 3674.1929 - mae: 3674.1929\n",
            "Epoch 83/200\n",
            "34/34 [==============================] - 0s 2ms/step - loss: 3668.0725 - mae: 3668.0725\n",
            "Epoch 84/200\n",
            "34/34 [==============================] - 0s 2ms/step - loss: 3664.6660 - mae: 3664.6660\n",
            "Epoch 85/200\n",
            "34/34 [==============================] - 0s 2ms/step - loss: 3661.7842 - mae: 3661.7842\n",
            "Epoch 86/200\n",
            "34/34 [==============================] - 0s 2ms/step - loss: 3660.2314 - mae: 3660.2314\n",
            "Epoch 87/200\n",
            "34/34 [==============================] - 0s 2ms/step - loss: 3657.2759 - mae: 3657.2759\n",
            "Epoch 88/200\n",
            "34/34 [==============================] - 0s 2ms/step - loss: 3655.1582 - mae: 3655.1582\n",
            "Epoch 89/200\n",
            "34/34 [==============================] - 0s 2ms/step - loss: 3653.7375 - mae: 3653.7375\n",
            "Epoch 90/200\n",
            "34/34 [==============================] - 0s 2ms/step - loss: 3651.8787 - mae: 3651.8787\n",
            "Epoch 91/200\n",
            "34/34 [==============================] - 0s 2ms/step - loss: 3648.7944 - mae: 3648.7944\n",
            "Epoch 92/200\n",
            "34/34 [==============================] - 0s 2ms/step - loss: 3648.1987 - mae: 3648.1987\n",
            "Epoch 93/200\n",
            "34/34 [==============================] - 0s 2ms/step - loss: 3645.9041 - mae: 3645.9041\n",
            "Epoch 94/200\n",
            "34/34 [==============================] - 0s 2ms/step - loss: 3644.1616 - mae: 3644.1616\n",
            "Epoch 95/200\n",
            "34/34 [==============================] - 0s 2ms/step - loss: 3644.8452 - mae: 3644.8452\n",
            "Epoch 96/200\n",
            "34/34 [==============================] - 0s 2ms/step - loss: 3642.1995 - mae: 3642.1995\n",
            "Epoch 97/200\n",
            "34/34 [==============================] - 0s 2ms/step - loss: 3639.8030 - mae: 3639.8030\n",
            "Epoch 98/200\n",
            "34/34 [==============================] - 0s 2ms/step - loss: 3637.7610 - mae: 3637.7610\n",
            "Epoch 99/200\n",
            "34/34 [==============================] - 0s 2ms/step - loss: 3636.8801 - mae: 3636.8801\n",
            "Epoch 100/200\n",
            "34/34 [==============================] - 0s 2ms/step - loss: 3635.8462 - mae: 3635.8462\n",
            "Epoch 101/200\n",
            "34/34 [==============================] - 0s 2ms/step - loss: 3632.7798 - mae: 3632.7798\n",
            "Epoch 102/200\n",
            "34/34 [==============================] - 0s 2ms/step - loss: 3630.3149 - mae: 3630.3149\n",
            "Epoch 103/200\n",
            "34/34 [==============================] - 0s 2ms/step - loss: 3629.2700 - mae: 3629.2700\n",
            "Epoch 104/200\n",
            "34/34 [==============================] - 0s 2ms/step - loss: 3626.8647 - mae: 3626.8647\n",
            "Epoch 105/200\n",
            "34/34 [==============================] - 0s 2ms/step - loss: 3625.1843 - mae: 3625.1843\n",
            "Epoch 106/200\n",
            "34/34 [==============================] - 0s 2ms/step - loss: 3623.8799 - mae: 3623.8799\n",
            "Epoch 107/200\n",
            "34/34 [==============================] - 0s 2ms/step - loss: 3623.4207 - mae: 3623.4207\n",
            "Epoch 108/200\n",
            "34/34 [==============================] - 0s 2ms/step - loss: 3620.6372 - mae: 3620.6372\n",
            "Epoch 109/200\n",
            "34/34 [==============================] - 0s 2ms/step - loss: 3621.1460 - mae: 3621.1460\n",
            "Epoch 110/200\n",
            "34/34 [==============================] - 0s 2ms/step - loss: 3617.6228 - mae: 3617.6228\n",
            "Epoch 111/200\n",
            "34/34 [==============================] - 0s 2ms/step - loss: 3615.0498 - mae: 3615.0498\n",
            "Epoch 112/200\n",
            "34/34 [==============================] - 0s 2ms/step - loss: 3613.1821 - mae: 3613.1821\n",
            "Epoch 113/200\n",
            "34/34 [==============================] - 0s 2ms/step - loss: 3611.6973 - mae: 3611.6973\n",
            "Epoch 114/200\n",
            "34/34 [==============================] - 0s 2ms/step - loss: 3610.6677 - mae: 3610.6677\n",
            "Epoch 115/200\n",
            "34/34 [==============================] - 0s 2ms/step - loss: 3609.0391 - mae: 3609.0391\n",
            "Epoch 116/200\n",
            "34/34 [==============================] - 0s 2ms/step - loss: 3607.5388 - mae: 3607.5388\n",
            "Epoch 117/200\n",
            "34/34 [==============================] - 0s 2ms/step - loss: 3604.5366 - mae: 3604.5366\n",
            "Epoch 118/200\n",
            "34/34 [==============================] - 0s 2ms/step - loss: 3600.9290 - mae: 3600.9290\n",
            "Epoch 119/200\n",
            "34/34 [==============================] - 0s 2ms/step - loss: 3602.8042 - mae: 3602.8042\n",
            "Epoch 120/200\n",
            "34/34 [==============================] - 0s 2ms/step - loss: 3600.1602 - mae: 3600.1602\n",
            "Epoch 121/200\n",
            "34/34 [==============================] - 0s 2ms/step - loss: 3595.2017 - mae: 3595.2017\n",
            "Epoch 122/200\n",
            "34/34 [==============================] - 0s 2ms/step - loss: 3594.4773 - mae: 3594.4773\n",
            "Epoch 123/200\n",
            "34/34 [==============================] - 0s 2ms/step - loss: 3592.4204 - mae: 3592.4204\n",
            "Epoch 124/200\n",
            "34/34 [==============================] - 0s 2ms/step - loss: 3590.2363 - mae: 3590.2363\n",
            "Epoch 125/200\n",
            "34/34 [==============================] - 0s 2ms/step - loss: 3588.2295 - mae: 3588.2295\n",
            "Epoch 126/200\n",
            "34/34 [==============================] - 0s 2ms/step - loss: 3587.2656 - mae: 3587.2656\n",
            "Epoch 127/200\n",
            "34/34 [==============================] - 0s 2ms/step - loss: 3587.7180 - mae: 3587.7180\n",
            "Epoch 128/200\n",
            "34/34 [==============================] - 0s 2ms/step - loss: 3584.0129 - mae: 3584.0129\n",
            "Epoch 129/200\n",
            "34/34 [==============================] - 0s 2ms/step - loss: 3582.6353 - mae: 3582.6353\n",
            "Epoch 130/200\n",
            "34/34 [==============================] - 0s 2ms/step - loss: 3579.0530 - mae: 3579.0530\n",
            "Epoch 131/200\n",
            "34/34 [==============================] - 0s 2ms/step - loss: 3577.6980 - mae: 3577.6980\n",
            "Epoch 132/200\n",
            "34/34 [==============================] - 0s 2ms/step - loss: 3574.8567 - mae: 3574.8567\n",
            "Epoch 133/200\n",
            "34/34 [==============================] - 0s 2ms/step - loss: 3573.2637 - mae: 3573.2637\n",
            "Epoch 134/200\n",
            "34/34 [==============================] - 0s 2ms/step - loss: 3571.1890 - mae: 3571.1890\n",
            "Epoch 135/200\n",
            "34/34 [==============================] - 0s 2ms/step - loss: 3569.3108 - mae: 3569.3108\n",
            "Epoch 136/200\n",
            "34/34 [==============================] - 0s 2ms/step - loss: 3567.8845 - mae: 3567.8845\n",
            "Epoch 137/200\n",
            "34/34 [==============================] - 0s 2ms/step - loss: 3566.2285 - mae: 3566.2285\n",
            "Epoch 138/200\n",
            "34/34 [==============================] - 0s 2ms/step - loss: 3563.9158 - mae: 3563.9158\n",
            "Epoch 139/200\n",
            "34/34 [==============================] - 0s 2ms/step - loss: 3563.1824 - mae: 3563.1824\n",
            "Epoch 140/200\n",
            "34/34 [==============================] - 0s 2ms/step - loss: 3561.1008 - mae: 3561.1008\n",
            "Epoch 141/200\n",
            "34/34 [==============================] - 0s 2ms/step - loss: 3561.1738 - mae: 3561.1738\n",
            "Epoch 142/200\n",
            "34/34 [==============================] - 0s 2ms/step - loss: 3558.1096 - mae: 3558.1096\n",
            "Epoch 143/200\n",
            "34/34 [==============================] - 0s 2ms/step - loss: 3558.2551 - mae: 3558.2551\n",
            "Epoch 144/200\n",
            "34/34 [==============================] - 0s 2ms/step - loss: 3555.2886 - mae: 3555.2886\n",
            "Epoch 145/200\n",
            "34/34 [==============================] - 0s 2ms/step - loss: 3553.2715 - mae: 3553.2715\n",
            "Epoch 146/200\n",
            "34/34 [==============================] - 0s 2ms/step - loss: 3553.4595 - mae: 3553.4595\n",
            "Epoch 147/200\n",
            "34/34 [==============================] - 0s 2ms/step - loss: 3550.9424 - mae: 3550.9424\n",
            "Epoch 148/200\n",
            "34/34 [==============================] - 0s 2ms/step - loss: 3549.7544 - mae: 3549.7544\n",
            "Epoch 149/200\n",
            "34/34 [==============================] - 0s 2ms/step - loss: 3547.0408 - mae: 3547.0408\n",
            "Epoch 150/200\n",
            "34/34 [==============================] - 0s 2ms/step - loss: 3546.6257 - mae: 3546.6257\n",
            "Epoch 151/200\n",
            "34/34 [==============================] - 0s 2ms/step - loss: 3545.0476 - mae: 3545.0476\n",
            "Epoch 152/200\n",
            "34/34 [==============================] - 0s 2ms/step - loss: 3543.4155 - mae: 3543.4155\n",
            "Epoch 153/200\n",
            "34/34 [==============================] - 0s 2ms/step - loss: 3541.9143 - mae: 3541.9143\n",
            "Epoch 154/200\n",
            "34/34 [==============================] - 0s 2ms/step - loss: 3543.3608 - mae: 3543.3608\n",
            "Epoch 155/200\n",
            "34/34 [==============================] - 0s 2ms/step - loss: 3540.6489 - mae: 3540.6489\n",
            "Epoch 156/200\n",
            "34/34 [==============================] - 0s 2ms/step - loss: 3538.9490 - mae: 3538.9490\n",
            "Epoch 157/200\n",
            "34/34 [==============================] - 0s 2ms/step - loss: 3537.6309 - mae: 3537.6309\n",
            "Epoch 158/200\n",
            "34/34 [==============================] - 0s 2ms/step - loss: 3534.6479 - mae: 3534.6479\n",
            "Epoch 159/200\n",
            "34/34 [==============================] - 0s 2ms/step - loss: 3533.1221 - mae: 3533.1221\n",
            "Epoch 160/200\n",
            "34/34 [==============================] - 0s 2ms/step - loss: 3532.8401 - mae: 3532.8401\n",
            "Epoch 161/200\n",
            "34/34 [==============================] - 0s 2ms/step - loss: 3529.8330 - mae: 3529.8330\n",
            "Epoch 162/200\n",
            "34/34 [==============================] - 0s 2ms/step - loss: 3529.2476 - mae: 3529.2476\n",
            "Epoch 163/200\n",
            "34/34 [==============================] - 0s 2ms/step - loss: 3527.2576 - mae: 3527.2576\n",
            "Epoch 164/200\n",
            "34/34 [==============================] - 0s 2ms/step - loss: 3526.4646 - mae: 3526.4646\n",
            "Epoch 165/200\n",
            "34/34 [==============================] - 0s 2ms/step - loss: 3524.4480 - mae: 3524.4480\n",
            "Epoch 166/200\n",
            "34/34 [==============================] - 0s 2ms/step - loss: 3522.8140 - mae: 3522.8140\n",
            "Epoch 167/200\n",
            "34/34 [==============================] - 0s 2ms/step - loss: 3521.8735 - mae: 3521.8735\n",
            "Epoch 168/200\n",
            "34/34 [==============================] - 0s 2ms/step - loss: 3520.7058 - mae: 3520.7058\n",
            "Epoch 169/200\n",
            "34/34 [==============================] - 0s 2ms/step - loss: 3519.5940 - mae: 3519.5940\n",
            "Epoch 170/200\n",
            "34/34 [==============================] - 0s 2ms/step - loss: 3518.0149 - mae: 3518.0149\n",
            "Epoch 171/200\n",
            "34/34 [==============================] - 0s 2ms/step - loss: 3517.7495 - mae: 3517.7495\n",
            "Epoch 172/200\n",
            "34/34 [==============================] - 0s 2ms/step - loss: 3516.4412 - mae: 3516.4412\n",
            "Epoch 173/200\n",
            "34/34 [==============================] - 0s 2ms/step - loss: 3514.6238 - mae: 3514.6238\n",
            "Epoch 174/200\n",
            "34/34 [==============================] - 0s 2ms/step - loss: 3513.6929 - mae: 3513.6929\n",
            "Epoch 175/200\n",
            "34/34 [==============================] - 0s 2ms/step - loss: 3512.3306 - mae: 3512.3306\n",
            "Epoch 176/200\n",
            "34/34 [==============================] - 0s 2ms/step - loss: 3512.1682 - mae: 3512.1682\n",
            "Epoch 177/200\n",
            "34/34 [==============================] - 0s 2ms/step - loss: 3512.5305 - mae: 3512.5305\n",
            "Epoch 178/200\n",
            "34/34 [==============================] - 0s 2ms/step - loss: 3510.1562 - mae: 3510.1562\n",
            "Epoch 179/200\n",
            "34/34 [==============================] - 0s 2ms/step - loss: 3512.1809 - mae: 3512.1809\n",
            "Epoch 180/200\n",
            "34/34 [==============================] - 0s 2ms/step - loss: 3507.1829 - mae: 3507.1829\n",
            "Epoch 181/200\n",
            "34/34 [==============================] - 0s 2ms/step - loss: 3505.1069 - mae: 3505.1069\n",
            "Epoch 182/200\n",
            "34/34 [==============================] - 0s 2ms/step - loss: 3504.5105 - mae: 3504.5105\n",
            "Epoch 183/200\n",
            "34/34 [==============================] - 0s 2ms/step - loss: 3502.6458 - mae: 3502.6458\n",
            "Epoch 184/200\n",
            "34/34 [==============================] - 0s 2ms/step - loss: 3501.8042 - mae: 3501.8042\n",
            "Epoch 185/200\n",
            "34/34 [==============================] - 0s 2ms/step - loss: 3501.4565 - mae: 3501.4565\n",
            "Epoch 186/200\n",
            "34/34 [==============================] - 0s 2ms/step - loss: 3499.0693 - mae: 3499.0693\n",
            "Epoch 187/200\n",
            "34/34 [==============================] - 0s 2ms/step - loss: 3499.3979 - mae: 3499.3979\n",
            "Epoch 188/200\n",
            "34/34 [==============================] - 0s 2ms/step - loss: 3496.5911 - mae: 3496.5911\n",
            "Epoch 189/200\n",
            "34/34 [==============================] - 0s 2ms/step - loss: 3494.8713 - mae: 3494.8713\n",
            "Epoch 190/200\n",
            "34/34 [==============================] - 0s 2ms/step - loss: 3496.8789 - mae: 3496.8789\n",
            "Epoch 191/200\n",
            "34/34 [==============================] - 0s 2ms/step - loss: 3501.6633 - mae: 3501.6633\n",
            "Epoch 192/200\n",
            "34/34 [==============================] - 0s 2ms/step - loss: 3492.0212 - mae: 3492.0212\n",
            "Epoch 193/200\n",
            "34/34 [==============================] - 0s 2ms/step - loss: 3491.8899 - mae: 3491.8899\n",
            "Epoch 194/200\n",
            "34/34 [==============================] - 0s 2ms/step - loss: 3488.9629 - mae: 3488.9629\n",
            "Epoch 195/200\n",
            "34/34 [==============================] - 0s 2ms/step - loss: 3488.5762 - mae: 3488.5759\n",
            "Epoch 196/200\n",
            "34/34 [==============================] - 0s 2ms/step - loss: 3489.8081 - mae: 3489.8081\n",
            "Epoch 197/200\n",
            "34/34 [==============================] - 0s 2ms/step - loss: 3485.5420 - mae: 3485.5420\n",
            "Epoch 198/200\n",
            "34/34 [==============================] - 0s 2ms/step - loss: 3484.7390 - mae: 3484.7390\n",
            "Epoch 199/200\n",
            "34/34 [==============================] - 0s 2ms/step - loss: 3483.5754 - mae: 3483.5754\n",
            "Epoch 200/200\n",
            "34/34 [==============================] - 0s 2ms/step - loss: 3484.3845 - mae: 3484.3845\n"
          ]
        },
        {
          "output_type": "execute_result",
          "data": {
            "text/plain": [
              "<keras.callbacks.History at 0x7fbb0266a5c0>"
            ]
          },
          "metadata": {},
          "execution_count": 43
        }
      ]
    },
    {
      "cell_type": "code",
      "source": [
        "model_i.evaluate(x_test_normal , y_test)"
      ],
      "metadata": {
        "colab": {
          "base_uri": "https://localhost:8080/"
        },
        "id": "sVtjQie2Cr0d",
        "outputId": "ff7a0798-adac-4444-f155-54452c6d3c86"
      },
      "execution_count": 45,
      "outputs": [
        {
          "output_type": "stream",
          "name": "stdout",
          "text": [
            "9/9 [==============================] - 0s 3ms/step - loss: 3171.5676 - mae: 3171.5676\n"
          ]
        },
        {
          "output_type": "execute_result",
          "data": {
            "text/plain": [
              "[3171.567626953125, 3171.567626953125]"
            ]
          },
          "metadata": {},
          "execution_count": 45
        }
      ]
    },
    {
      "cell_type": "code",
      "source": [],
      "metadata": {
        "id": "OFdP7LaXC9WI"
      },
      "execution_count": null,
      "outputs": []
    }
  ]
}